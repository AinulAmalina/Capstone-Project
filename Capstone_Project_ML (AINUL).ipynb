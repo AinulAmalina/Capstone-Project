{
 "cells": [
  {
   "cell_type": "markdown",
   "metadata": {
    "id": "3OalrMdgBMJF"
   },
   "source": [
    "<img src=\"images/Peoplelogy-Logo.png\" style=\"height: 100px;\" align=left>"
   ]
  },
  {
   "cell_type": "markdown",
   "metadata": {
    "id": "AJpSxAZMBMJI"
   },
   "source": [
    "# Capstone Project\n",
    "#### Designed by:\n",
    "Uzair Aslam (uzairaslam19@yahoo.com)\n"
   ]
  },
  {
   "cell_type": "markdown",
   "metadata": {
    "id": "soMQXllDBMJI"
   },
   "source": [
    "## Submission Guideline\n",
    "\n",
    "- Your jupyter notebook(s)\n",
    "- PowerPoint Slides\n",
    "- Presentation, 12 minutes + 3 minutes Q/A"
   ]
  },
  {
   "cell_type": "markdown",
   "metadata": {
    "id": "McGWOlNeBMJJ"
   },
   "source": [
    "## The Use Case\n",
    "#### **This a financial Dataset from a bank in Europe, and consists of 8 CSV files. Descriptions of which are as follows. You are provided a data set (in csv format) containing the following data**\n",
    "\n",
    "\n",
    "**Account (4500 Observations)** - Each record describes static characteristics of an account\n",
    "\n",
    "**Client (5369 Observations)** - Each record describes characteristics of a client\n",
    "\n",
    "**Relationship (disp) (5369 Observations)** - Each record relates together a client with an account (*relationship.csv*)\n",
    "\n",
    "**Order (6471 Observations)** - Each record describes characteristics of a payment order\n",
    "\n",
    "**Transaction (1056320 Observations)** - Each record describes one transaction on an account\n",
    "\n",
    "**Loan (682 Observations)** - Each record describes a loan granted for a given account\n",
    "\n",
    "**Credit card (892 Observations)** - Each record describes a credit card issued to an account\n",
    "\n",
    "**Demographic data (77 Observations)** - Each record describes demographic characteristics of a district."
   ]
  },
  {
   "cell_type": "markdown",
   "metadata": {
    "id": "NAUPampdBMJJ"
   },
   "source": [
    "### ER Diagram for the Dataset\n",
    "<table><tr><td><img src=\"images/ERDagram.png\"></td></tr></table>"
   ]
  },
  {
   "cell_type": "markdown",
   "metadata": {
    "id": "OFcMtCTRBMJK"
   },
   "source": [
    "## PART 1: SQL"
   ]
  },
  {
   "cell_type": "markdown",
   "metadata": {
    "id": "jZcZ_19OBMJK"
   },
   "source": [
    "### **CONNECT to the Banking_data.db through jupyter or DB Viewer, and answer the following questions.**\n",
    "- You are required to provide the answer as well as the query that you wrote"
   ]
  },
  {
   "cell_type": "markdown",
   "metadata": {
    "id": "BLfQ15bGBMJK"
   },
   "source": [
    "### **i.Find the average loan amount in the loan table**"
   ]
  },
  {
   "cell_type": "code",
   "execution_count": 1,
   "metadata": {},
   "outputs": [],
   "source": [
    "%load_ext sql"
   ]
  },
  {
   "cell_type": "code",
   "execution_count": 2,
   "metadata": {},
   "outputs": [],
   "source": [
    "%sql sqlite:///Banking_data.db"
   ]
  },
  {
   "cell_type": "code",
   "execution_count": 3,
   "metadata": {},
   "outputs": [
    {
     "name": "stdout",
     "output_type": "stream",
     "text": [
      " * sqlite:///Banking_data.db\n",
      "Done.\n"
     ]
    },
    {
     "data": {
      "text/html": [
       "<table>\n",
       "    <thead>\n",
       "        <tr>\n",
       "            <th>sql</th>\n",
       "        </tr>\n",
       "    </thead>\n",
       "    <tbody>\n",
       "        <tr>\n",
       "            <td>CREATE TABLE &quot;account&quot; (<br>&quot;account_id&quot; INTEGER,<br>  &quot;district_id&quot; INTEGER,<br>  &quot;frequency&quot; TEXT,<br>  &quot;date&quot; INTEGER<br>)</td>\n",
       "        </tr>\n",
       "        <tr>\n",
       "            <td>CREATE TABLE &quot;card&quot; (<br>&quot;card_id&quot; INTEGER,<br>  &quot;disp_id&quot; INTEGER,<br>  &quot;type&quot; TEXT,<br>  &quot;issued&quot; TEXT<br>)</td>\n",
       "        </tr>\n",
       "        <tr>\n",
       "            <td>CREATE TABLE &quot;client&quot; (<br>&quot;client_id&quot; INTEGER,<br>  &quot;birth_number&quot; INTEGER,<br>  &quot;district_id&quot; INTEGER<br>)</td>\n",
       "        </tr>\n",
       "        <tr>\n",
       "            <td>CREATE TABLE &quot;district&quot; (<br>&quot;A1&quot; INTEGER,<br>  &quot;A2&quot; TEXT,<br>  &quot;A3&quot; TEXT,<br>  &quot;A4&quot; INTEGER,<br>  &quot;A5&quot; INTEGER,<br>  &quot;A6&quot; INTEGER,<br>  &quot;A7&quot; INTEGER,<br>  &quot;A8&quot; INTEGER,<br>  &quot;A9&quot; INTEGER,<br>  &quot;A10&quot; REAL,<br>  &quot;A11&quot; INTEGER,<br>  &quot;A12&quot; TEXT,<br>  &quot;A13&quot; REAL,<br>  &quot;A14&quot; INTEGER,<br>  &quot;A15&quot; TEXT,<br>  &quot;A16&quot; INTEGER<br>)</td>\n",
       "        </tr>\n",
       "        <tr>\n",
       "            <td>CREATE TABLE &quot;loan&quot; (<br>&quot;loan_id&quot; INTEGER,<br>  &quot;account_id&quot; INTEGER,<br>  &quot;date&quot; INTEGER,<br>  &quot;amount&quot; INTEGER,<br>  &quot;duration&quot; INTEGER,<br>  &quot;payments&quot; REAL,<br>  &quot;status&quot; TEXT<br>)</td>\n",
       "        </tr>\n",
       "        <tr>\n",
       "            <td>CREATE TABLE &quot;orders&quot; (<br>&quot;order_id&quot; INTEGER,<br>  &quot;account_id&quot; INTEGER,<br>  &quot;bank_to&quot; TEXT,<br>  &quot;account_to&quot; INTEGER,<br>  &quot;amount&quot; REAL,<br>  &quot;k_symbol&quot; TEXT<br>)</td>\n",
       "        </tr>\n",
       "        <tr>\n",
       "            <td>CREATE TABLE &quot;relationship&quot; (<br>&quot;disp_id&quot; INTEGER,<br>  &quot;client_id&quot; INTEGER,<br>  &quot;account_id&quot; INTEGER,<br>  &quot;type&quot; TEXT<br>)</td>\n",
       "        </tr>\n",
       "        <tr>\n",
       "            <td>CREATE TABLE &quot;transactions&quot; (<br>&quot;trans_id&quot; INTEGER,<br>  &quot;account_id&quot; INTEGER,<br>  &quot;date&quot; INTEGER,<br>  &quot;type&quot; TEXT,<br>  &quot;operation&quot; TEXT,<br>  &quot;amount&quot; REAL,<br>  &quot;balance&quot; REAL,<br>  &quot;k_symbol&quot; TEXT,<br>  &quot;bank&quot; TEXT,<br>  &quot;account&quot; REAL<br>)</td>\n",
       "        </tr>\n",
       "    </tbody>\n",
       "</table>"
      ],
      "text/plain": [
       "[('CREATE TABLE \"account\" (\\n\"account_id\" INTEGER,\\n  \"district_id\" INTEGER,\\n  \"frequency\" TEXT,\\n  \"date\" INTEGER\\n)',),\n",
       " ('CREATE TABLE \"card\" (\\n\"card_id\" INTEGER,\\n  \"disp_id\" INTEGER,\\n  \"type\" TEXT,\\n  \"issued\" TEXT\\n)',),\n",
       " ('CREATE TABLE \"client\" (\\n\"client_id\" INTEGER,\\n  \"birth_number\" INTEGER,\\n  \"district_id\" INTEGER\\n)',),\n",
       " ('CREATE TABLE \"district\" (\\n\"A1\" INTEGER,\\n  \"A2\" TEXT,\\n  \"A3\" TEXT,\\n  \"A4\" INTEGER,\\n  \"A5\" INTEGER,\\n  \"A6\" INTEGER,\\n  \"A7\" INTEGER,\\n  \"A8\" INTEGER,\\n  \"A9\" INTEGER,\\n  \"A10\" REAL,\\n  \"A11\" INTEGER,\\n  \"A12\" TEXT,\\n  \"A13\" REAL,\\n  \"A14\" INTEGER,\\n  \"A15\" TEXT,\\n  \"A16\" INTEGER\\n)',),\n",
       " ('CREATE TABLE \"loan\" (\\n\"loan_id\" INTEGER,\\n  \"account_id\" INTEGER,\\n  \"date\" INTEGER,\\n  \"amount\" INTEGER,\\n  \"duration\" INTEGER,\\n  \"payments\" REAL,\\n  \"status\" TEXT\\n)',),\n",
       " ('CREATE TABLE \"orders\" (\\n\"order_id\" INTEGER,\\n  \"account_id\" INTEGER,\\n  \"bank_to\" TEXT,\\n  \"account_to\" INTEGER,\\n  \"amount\" REAL,\\n  \"k_symbol\" TEXT\\n)',),\n",
       " ('CREATE TABLE \"relationship\" (\\n\"disp_id\" INTEGER,\\n  \"client_id\" INTEGER,\\n  \"account_id\" INTEGER,\\n  \"type\" TEXT\\n)',),\n",
       " ('CREATE TABLE \"transactions\" (\\n\"trans_id\" INTEGER,\\n  \"account_id\" INTEGER,\\n  \"date\" INTEGER,\\n  \"type\" TEXT,\\n  \"operation\" TEXT,\\n  \"amount\" REAL,\\n  \"balance\" REAL,\\n  \"k_symbol\" TEXT,\\n  \"bank\" TEXT,\\n  \"account\" REAL\\n)',)]"
      ]
     },
     "execution_count": 3,
     "metadata": {},
     "output_type": "execute_result"
    }
   ],
   "source": [
    "%sql SELECT sql from sqlite_master WHERE type='table';"
   ]
  },
  {
   "cell_type": "code",
   "execution_count": 4,
   "metadata": {},
   "outputs": [
    {
     "name": "stdout",
     "output_type": "stream",
     "text": [
      " * sqlite:///Banking_data.db\n",
      "Done.\n"
     ]
    },
    {
     "data": {
      "text/html": [
       "<table>\n",
       "    <thead>\n",
       "        <tr>\n",
       "            <th>AVG(amount)</th>\n",
       "        </tr>\n",
       "    </thead>\n",
       "    <tbody>\n",
       "        <tr>\n",
       "            <td>151410.1759530792</td>\n",
       "        </tr>\n",
       "    </tbody>\n",
       "</table>"
      ],
      "text/plain": [
       "[(151410.1759530792,)]"
      ]
     },
     "execution_count": 4,
     "metadata": {},
     "output_type": "execute_result"
    }
   ],
   "source": [
    "\n",
    "%%sql\n",
    "SELECT AVG(amount)\n",
    "FROM loan"
   ]
  },
  {
   "cell_type": "markdown",
   "metadata": {
    "id": "uld8WSWNBMJM"
   },
   "source": [
    "### **ii. What is the total number of accounts in the account table?**"
   ]
  },
  {
   "cell_type": "code",
   "execution_count": 5,
   "metadata": {
    "id": "fo_dAWJcBMJM",
    "outputId": "f4cbd35a-15af-40d7-8b42-09afb5b6be85"
   },
   "outputs": [
    {
     "name": "stdout",
     "output_type": "stream",
     "text": [
      " * sqlite:///Banking_data.db\n",
      "Done.\n"
     ]
    },
    {
     "data": {
      "text/html": [
       "<table>\n",
       "    <thead>\n",
       "        <tr>\n",
       "            <th>COUNT(account_id)</th>\n",
       "        </tr>\n",
       "    </thead>\n",
       "    <tbody>\n",
       "        <tr>\n",
       "            <td>4500</td>\n",
       "        </tr>\n",
       "    </tbody>\n",
       "</table>"
      ],
      "text/plain": [
       "[(4500,)]"
      ]
     },
     "execution_count": 5,
     "metadata": {},
     "output_type": "execute_result"
    }
   ],
   "source": [
    "%%sql\n",
    "SELECT COUNT(account_id)\n",
    "FROM account"
   ]
  },
  {
   "cell_type": "markdown",
   "metadata": {
    "id": "ZS4O4xRMBMJP"
   },
   "source": [
    "### **iii. Find all clients who have a loan but no credit card.**\n",
    "#### **Part A: Fetch the list of all clients who have a loan but no credit card.**\n",
    "#### **Part B: Count the number of clients who meet this condition.**"
   ]
  },
  {
   "cell_type": "code",
   "execution_count": 6,
   "metadata": {},
   "outputs": [
    {
     "name": "stdout",
     "output_type": "stream",
     "text": [
      " * sqlite:///Banking_data.db\n",
      "Done.\n"
     ]
    },
    {
     "data": {
      "text/html": [
       "<table>\n",
       "    <thead>\n",
       "        <tr>\n",
       "            <th>loan_id</th>\n",
       "            <th>account_id</th>\n",
       "            <th>date</th>\n",
       "            <th>amount</th>\n",
       "            <th>duration</th>\n",
       "            <th>payments</th>\n",
       "            <th>status</th>\n",
       "        </tr>\n",
       "    </thead>\n",
       "    <tbody>\n",
       "        <tr>\n",
       "            <td>5314</td>\n",
       "            <td>1787</td>\n",
       "            <td>930705</td>\n",
       "            <td>96396</td>\n",
       "            <td>12</td>\n",
       "            <td>8033.0</td>\n",
       "            <td>B</td>\n",
       "        </tr>\n",
       "    </tbody>\n",
       "</table>"
      ],
      "text/plain": [
       "[(5314, 1787, 930705, 96396, 12, 8033.0, 'B')]"
      ]
     },
     "execution_count": 6,
     "metadata": {},
     "output_type": "execute_result"
    }
   ],
   "source": [
    "%%sql\n",
    "SELECT *\n",
    "FROM loan\n",
    "LIMIT 1"
   ]
  },
  {
   "cell_type": "code",
   "execution_count": 14,
   "metadata": {
    "id": "44bBTqJgBMJP"
   },
   "outputs": [
    {
     "name": "stdout",
     "output_type": "stream",
     "text": [
      " * sqlite:///Banking_data.db\n",
      "Done.\n"
     ]
    },
    {
     "data": {
      "text/html": [
       "<table>\n",
       "    <thead>\n",
       "        <tr>\n",
       "            <th>account_id</th>\n",
       "            <th>account_id_1</th>\n",
       "            <th>disp_id</th>\n",
       "            <th>disp_id_1</th>\n",
       "        </tr>\n",
       "    </thead>\n",
       "    <tbody>\n",
       "        <tr>\n",
       "            <td>1787</td>\n",
       "            <td>1787</td>\n",
       "            <td>2166</td>\n",
       "            <td>None</td>\n",
       "        </tr>\n",
       "        <tr>\n",
       "            <td>1801</td>\n",
       "            <td>1801</td>\n",
       "            <td>2181</td>\n",
       "            <td>None</td>\n",
       "        </tr>\n",
       "        <tr>\n",
       "            <td>9188</td>\n",
       "            <td>9188</td>\n",
       "            <td>11006</td>\n",
       "            <td>None</td>\n",
       "        </tr>\n",
       "        <tr>\n",
       "            <td>8261</td>\n",
       "            <td>8261</td>\n",
       "            <td>9892</td>\n",
       "            <td>None</td>\n",
       "        </tr>\n",
       "        <tr>\n",
       "            <td>8261</td>\n",
       "            <td>8261</td>\n",
       "            <td>9893</td>\n",
       "            <td>None</td>\n",
       "        </tr>\n",
       "        <tr>\n",
       "            <td>11265</td>\n",
       "            <td>11265</td>\n",
       "            <td>13537</td>\n",
       "            <td>None</td>\n",
       "        </tr>\n",
       "        <tr>\n",
       "            <td>5428</td>\n",
       "            <td>5428</td>\n",
       "            <td>6551</td>\n",
       "            <td>None</td>\n",
       "        </tr>\n",
       "        <tr>\n",
       "            <td>10973</td>\n",
       "            <td>10973</td>\n",
       "            <td>13182</td>\n",
       "            <td>None</td>\n",
       "        </tr>\n",
       "        <tr>\n",
       "            <td>10364</td>\n",
       "            <td>10364</td>\n",
       "            <td>12446</td>\n",
       "            <td>None</td>\n",
       "        </tr>\n",
       "        <tr>\n",
       "            <td>10364</td>\n",
       "            <td>10364</td>\n",
       "            <td>12447</td>\n",
       "            <td>None</td>\n",
       "        </tr>\n",
       "    </tbody>\n",
       "</table>"
      ],
      "text/plain": [
       "[(1787, 1787, 2166, None),\n",
       " (1801, 1801, 2181, None),\n",
       " (9188, 9188, 11006, None),\n",
       " (8261, 8261, 9892, None),\n",
       " (8261, 8261, 9893, None),\n",
       " (11265, 11265, 13537, None),\n",
       " (5428, 5428, 6551, None),\n",
       " (10973, 10973, 13182, None),\n",
       " (10364, 10364, 12446, None),\n",
       " (10364, 10364, 12447, None)]"
      ]
     },
     "execution_count": 14,
     "metadata": {},
     "output_type": "execute_result"
    }
   ],
   "source": [
    "%%sql\n",
    "SELECT \n",
    "L.account_id, \n",
    "R.account_id,\n",
    "R.disp_id,\n",
    "C.disp_id\n",
    "FROM loan AS L\n",
    "INNER JOIN \n",
    "    relationship AS R ON R.account_id = L.account_id\n",
    "LEFT JOIN \n",
    "    card AS C ON C.disp_id = R.disp_id\n",
    "WHERE C.disp_id IS NULL\n",
    "LIMIT 10;"
   ]
  },
  {
   "cell_type": "code",
   "execution_count": 15,
   "metadata": {
    "id": "IHJE6NQqBMJP"
   },
   "outputs": [
    {
     "name": "stdout",
     "output_type": "stream",
     "text": [
      " * sqlite:///Banking_data.db\n",
      "Done.\n"
     ]
    },
    {
     "data": {
      "text/html": [
       "<table>\n",
       "    <thead>\n",
       "        <tr>\n",
       "            <th>count_client</th>\n",
       "        </tr>\n",
       "    </thead>\n",
       "    <tbody>\n",
       "        <tr>\n",
       "            <td>657</td>\n",
       "        </tr>\n",
       "    </tbody>\n",
       "</table>"
      ],
      "text/plain": [
       "[(657,)]"
      ]
     },
     "execution_count": 15,
     "metadata": {},
     "output_type": "execute_result"
    }
   ],
   "source": [
    "%%sql\n",
    "SELECT \n",
    " COUNT(DISTINCT R.disp_id) AS count_client\n",
    "FROM loan AS L\n",
    "INNER JOIN \n",
    "    relationship AS R ON R.account_id = L.account_id\n",
    "LEFT JOIN \n",
    "    card AS C ON C.disp_id = R.disp_id\n",
    "WHERE C.disp_id IS NULL;\n"
   ]
  },
  {
   "cell_type": "markdown",
   "metadata": {
    "id": "PE0LMaQoBMJP"
   },
   "source": [
    "### **iv. Find the total loan amount issued for each district.**\n",
    "#### **Part A: Display the total loan amount issued for each district.**\n",
    "#### **Part B: Count how many districts have a total loan amount greater than a  1,000,000.**"
   ]
  },
  {
   "cell_type": "code",
   "execution_count": 18,
   "metadata": {
    "id": "er3afsyhBMJP"
   },
   "outputs": [
    {
     "name": "stdout",
     "output_type": "stream",
     "text": [
      " * sqlite:///Banking_data.db\n",
      "Done.\n"
     ]
    },
    {
     "data": {
      "text/html": [
       "<table>\n",
       "    <thead>\n",
       "        <tr>\n",
       "            <th>district_id</th>\n",
       "            <th>Total_loan</th>\n",
       "        </tr>\n",
       "    </thead>\n",
       "    <tbody>\n",
       "        <tr>\n",
       "            <td>1</td>\n",
       "            <td>12932412</td>\n",
       "        </tr>\n",
       "        <tr>\n",
       "            <td>2</td>\n",
       "            <td>887952</td>\n",
       "        </tr>\n",
       "        <tr>\n",
       "            <td>3</td>\n",
       "            <td>1460796</td>\n",
       "        </tr>\n",
       "        <tr>\n",
       "            <td>4</td>\n",
       "            <td>1106520</td>\n",
       "        </tr>\n",
       "        <tr>\n",
       "            <td>5</td>\n",
       "            <td>1901160</td>\n",
       "        </tr>\n",
       "        <tr>\n",
       "            <td>6</td>\n",
       "            <td>2095980</td>\n",
       "        </tr>\n",
       "        <tr>\n",
       "            <td>7</td>\n",
       "            <td>557796</td>\n",
       "        </tr>\n",
       "        <tr>\n",
       "            <td>8</td>\n",
       "            <td>617520</td>\n",
       "        </tr>\n",
       "        <tr>\n",
       "            <td>9</td>\n",
       "            <td>1005084</td>\n",
       "        </tr>\n",
       "        <tr>\n",
       "            <td>10</td>\n",
       "            <td>859464</td>\n",
       "        </tr>\n",
       "        <tr>\n",
       "            <td>11</td>\n",
       "            <td>1233096</td>\n",
       "        </tr>\n",
       "        <tr>\n",
       "            <td>12</td>\n",
       "            <td>1299192</td>\n",
       "        </tr>\n",
       "        <tr>\n",
       "            <td>13</td>\n",
       "            <td>960744</td>\n",
       "        </tr>\n",
       "        <tr>\n",
       "            <td>14</td>\n",
       "            <td>2010924</td>\n",
       "        </tr>\n",
       "        <tr>\n",
       "            <td>15</td>\n",
       "            <td>584328</td>\n",
       "        </tr>\n",
       "        <tr>\n",
       "            <td>16</td>\n",
       "            <td>1339572</td>\n",
       "        </tr>\n",
       "        <tr>\n",
       "            <td>17</td>\n",
       "            <td>415692</td>\n",
       "        </tr>\n",
       "        <tr>\n",
       "            <td>18</td>\n",
       "            <td>477492</td>\n",
       "        </tr>\n",
       "        <tr>\n",
       "            <td>19</td>\n",
       "            <td>2356692</td>\n",
       "        </tr>\n",
       "        <tr>\n",
       "            <td>20</td>\n",
       "            <td>1224492</td>\n",
       "        </tr>\n",
       "        <tr>\n",
       "            <td>21</td>\n",
       "            <td>964944</td>\n",
       "        </tr>\n",
       "        <tr>\n",
       "            <td>22</td>\n",
       "            <td>397008</td>\n",
       "        </tr>\n",
       "        <tr>\n",
       "            <td>23</td>\n",
       "            <td>438816</td>\n",
       "        </tr>\n",
       "        <tr>\n",
       "            <td>24</td>\n",
       "            <td>845196</td>\n",
       "        </tr>\n",
       "        <tr>\n",
       "            <td>25</td>\n",
       "            <td>270876</td>\n",
       "        </tr>\n",
       "        <tr>\n",
       "            <td>26</td>\n",
       "            <td>756804</td>\n",
       "        </tr>\n",
       "        <tr>\n",
       "            <td>27</td>\n",
       "            <td>1294188</td>\n",
       "        </tr>\n",
       "        <tr>\n",
       "            <td>28</td>\n",
       "            <td>1338984</td>\n",
       "        </tr>\n",
       "        <tr>\n",
       "            <td>29</td>\n",
       "            <td>1329204</td>\n",
       "        </tr>\n",
       "        <tr>\n",
       "            <td>30</td>\n",
       "            <td>148524</td>\n",
       "        </tr>\n",
       "        <tr>\n",
       "            <td>31</td>\n",
       "            <td>959784</td>\n",
       "        </tr>\n",
       "        <tr>\n",
       "            <td>32</td>\n",
       "            <td>462684</td>\n",
       "        </tr>\n",
       "        <tr>\n",
       "            <td>33</td>\n",
       "            <td>509952</td>\n",
       "        </tr>\n",
       "        <tr>\n",
       "            <td>34</td>\n",
       "            <td>923916</td>\n",
       "        </tr>\n",
       "        <tr>\n",
       "            <td>35</td>\n",
       "            <td>127200</td>\n",
       "        </tr>\n",
       "        <tr>\n",
       "            <td>36</td>\n",
       "            <td>971292</td>\n",
       "        </tr>\n",
       "        <tr>\n",
       "            <td>37</td>\n",
       "            <td>1116228</td>\n",
       "        </tr>\n",
       "        <tr>\n",
       "            <td>38</td>\n",
       "            <td>1540056</td>\n",
       "        </tr>\n",
       "        <tr>\n",
       "            <td>39</td>\n",
       "            <td>615060</td>\n",
       "        </tr>\n",
       "        <tr>\n",
       "            <td>40</td>\n",
       "            <td>872748</td>\n",
       "        </tr>\n",
       "        <tr>\n",
       "            <td>41</td>\n",
       "            <td>347484</td>\n",
       "        </tr>\n",
       "        <tr>\n",
       "            <td>42</td>\n",
       "            <td>1193208</td>\n",
       "        </tr>\n",
       "        <tr>\n",
       "            <td>43</td>\n",
       "            <td>630672</td>\n",
       "        </tr>\n",
       "        <tr>\n",
       "            <td>44</td>\n",
       "            <td>1431684</td>\n",
       "        </tr>\n",
       "        <tr>\n",
       "            <td>45</td>\n",
       "            <td>851364</td>\n",
       "        </tr>\n",
       "        <tr>\n",
       "            <td>46</td>\n",
       "            <td>1768380</td>\n",
       "        </tr>\n",
       "        <tr>\n",
       "            <td>47</td>\n",
       "            <td>1648368</td>\n",
       "        </tr>\n",
       "        <tr>\n",
       "            <td>48</td>\n",
       "            <td>754044</td>\n",
       "        </tr>\n",
       "        <tr>\n",
       "            <td>49</td>\n",
       "            <td>276180</td>\n",
       "        </tr>\n",
       "        <tr>\n",
       "            <td>50</td>\n",
       "            <td>2100084</td>\n",
       "        </tr>\n",
       "        <tr>\n",
       "            <td>51</td>\n",
       "            <td>1076580</td>\n",
       "        </tr>\n",
       "        <tr>\n",
       "            <td>52</td>\n",
       "            <td>2213160</td>\n",
       "        </tr>\n",
       "        <tr>\n",
       "            <td>53</td>\n",
       "            <td>1191024</td>\n",
       "        </tr>\n",
       "        <tr>\n",
       "            <td>54</td>\n",
       "            <td>4049400</td>\n",
       "        </tr>\n",
       "        <tr>\n",
       "            <td>55</td>\n",
       "            <td>1232232</td>\n",
       "        </tr>\n",
       "        <tr>\n",
       "            <td>56</td>\n",
       "            <td>1176792</td>\n",
       "        </tr>\n",
       "        <tr>\n",
       "            <td>57</td>\n",
       "            <td>1191504</td>\n",
       "        </tr>\n",
       "        <tr>\n",
       "            <td>58</td>\n",
       "            <td>366096</td>\n",
       "        </tr>\n",
       "        <tr>\n",
       "            <td>59</td>\n",
       "            <td>960072</td>\n",
       "        </tr>\n",
       "        <tr>\n",
       "            <td>60</td>\n",
       "            <td>1138812</td>\n",
       "        </tr>\n",
       "        <tr>\n",
       "            <td>61</td>\n",
       "            <td>630000</td>\n",
       "        </tr>\n",
       "        <tr>\n",
       "            <td>62</td>\n",
       "            <td>1682040</td>\n",
       "        </tr>\n",
       "        <tr>\n",
       "            <td>63</td>\n",
       "            <td>777192</td>\n",
       "        </tr>\n",
       "        <tr>\n",
       "            <td>64</td>\n",
       "            <td>3012768</td>\n",
       "        </tr>\n",
       "        <tr>\n",
       "            <td>65</td>\n",
       "            <td>944376</td>\n",
       "        </tr>\n",
       "        <tr>\n",
       "            <td>66</td>\n",
       "            <td>1326540</td>\n",
       "        </tr>\n",
       "        <tr>\n",
       "            <td>67</td>\n",
       "            <td>1277796</td>\n",
       "        </tr>\n",
       "        <tr>\n",
       "            <td>68</td>\n",
       "            <td>2053752</td>\n",
       "        </tr>\n",
       "        <tr>\n",
       "            <td>69</td>\n",
       "            <td>1938432</td>\n",
       "        </tr>\n",
       "        <tr>\n",
       "            <td>70</td>\n",
       "            <td>3059820</td>\n",
       "        </tr>\n",
       "        <tr>\n",
       "            <td>71</td>\n",
       "            <td>694368</td>\n",
       "        </tr>\n",
       "        <tr>\n",
       "            <td>72</td>\n",
       "            <td>2287596</td>\n",
       "        </tr>\n",
       "        <tr>\n",
       "            <td>73</td>\n",
       "            <td>1493076</td>\n",
       "        </tr>\n",
       "        <tr>\n",
       "            <td>74</td>\n",
       "            <td>3260220</td>\n",
       "        </tr>\n",
       "        <tr>\n",
       "            <td>75</td>\n",
       "            <td>695628</td>\n",
       "        </tr>\n",
       "        <tr>\n",
       "            <td>76</td>\n",
       "            <td>829644</td>\n",
       "        </tr>\n",
       "        <tr>\n",
       "            <td>77</td>\n",
       "            <td>490980</td>\n",
       "        </tr>\n",
       "    </tbody>\n",
       "</table>"
      ],
      "text/plain": [
       "[(1, 12932412),\n",
       " (2, 887952),\n",
       " (3, 1460796),\n",
       " (4, 1106520),\n",
       " (5, 1901160),\n",
       " (6, 2095980),\n",
       " (7, 557796),\n",
       " (8, 617520),\n",
       " (9, 1005084),\n",
       " (10, 859464),\n",
       " (11, 1233096),\n",
       " (12, 1299192),\n",
       " (13, 960744),\n",
       " (14, 2010924),\n",
       " (15, 584328),\n",
       " (16, 1339572),\n",
       " (17, 415692),\n",
       " (18, 477492),\n",
       " (19, 2356692),\n",
       " (20, 1224492),\n",
       " (21, 964944),\n",
       " (22, 397008),\n",
       " (23, 438816),\n",
       " (24, 845196),\n",
       " (25, 270876),\n",
       " (26, 756804),\n",
       " (27, 1294188),\n",
       " (28, 1338984),\n",
       " (29, 1329204),\n",
       " (30, 148524),\n",
       " (31, 959784),\n",
       " (32, 462684),\n",
       " (33, 509952),\n",
       " (34, 923916),\n",
       " (35, 127200),\n",
       " (36, 971292),\n",
       " (37, 1116228),\n",
       " (38, 1540056),\n",
       " (39, 615060),\n",
       " (40, 872748),\n",
       " (41, 347484),\n",
       " (42, 1193208),\n",
       " (43, 630672),\n",
       " (44, 1431684),\n",
       " (45, 851364),\n",
       " (46, 1768380),\n",
       " (47, 1648368),\n",
       " (48, 754044),\n",
       " (49, 276180),\n",
       " (50, 2100084),\n",
       " (51, 1076580),\n",
       " (52, 2213160),\n",
       " (53, 1191024),\n",
       " (54, 4049400),\n",
       " (55, 1232232),\n",
       " (56, 1176792),\n",
       " (57, 1191504),\n",
       " (58, 366096),\n",
       " (59, 960072),\n",
       " (60, 1138812),\n",
       " (61, 630000),\n",
       " (62, 1682040),\n",
       " (63, 777192),\n",
       " (64, 3012768),\n",
       " (65, 944376),\n",
       " (66, 1326540),\n",
       " (67, 1277796),\n",
       " (68, 2053752),\n",
       " (69, 1938432),\n",
       " (70, 3059820),\n",
       " (71, 694368),\n",
       " (72, 2287596),\n",
       " (73, 1493076),\n",
       " (74, 3260220),\n",
       " (75, 695628),\n",
       " (76, 829644),\n",
       " (77, 490980)]"
      ]
     },
     "execution_count": 18,
     "metadata": {},
     "output_type": "execute_result"
    }
   ],
   "source": [
    "%%sql\n",
    "SELECT Acc.district_id,SUM(L.amount) AS Total_loan\n",
    "FROM loan AS L\n",
    "INNER JOIN account AS Acc ON L.account_id = Acc.account_id\n",
    "GROUP BY district_id\n",
    "ORDER BY Acc.district_id;\n"
   ]
  },
  {
   "cell_type": "code",
   "execution_count": 27,
   "metadata": {},
   "outputs": [
    {
     "name": "stdout",
     "output_type": "stream",
     "text": [
      " * sqlite:///Banking_data.db\n",
      "Done.\n"
     ]
    },
    {
     "data": {
      "text/html": [
       "<table>\n",
       "    <thead>\n",
       "        <tr>\n",
       "            <th>district_id</th>\n",
       "            <th>Total_loan</th>\n",
       "        </tr>\n",
       "    </thead>\n",
       "    <tbody>\n",
       "        <tr>\n",
       "            <td>1</td>\n",
       "            <td>12932412</td>\n",
       "        </tr>\n",
       "        <tr>\n",
       "            <td>3</td>\n",
       "            <td>1460796</td>\n",
       "        </tr>\n",
       "        <tr>\n",
       "            <td>4</td>\n",
       "            <td>1106520</td>\n",
       "        </tr>\n",
       "        <tr>\n",
       "            <td>5</td>\n",
       "            <td>1901160</td>\n",
       "        </tr>\n",
       "        <tr>\n",
       "            <td>6</td>\n",
       "            <td>2095980</td>\n",
       "        </tr>\n",
       "        <tr>\n",
       "            <td>9</td>\n",
       "            <td>1005084</td>\n",
       "        </tr>\n",
       "        <tr>\n",
       "            <td>11</td>\n",
       "            <td>1233096</td>\n",
       "        </tr>\n",
       "        <tr>\n",
       "            <td>12</td>\n",
       "            <td>1299192</td>\n",
       "        </tr>\n",
       "        <tr>\n",
       "            <td>14</td>\n",
       "            <td>2010924</td>\n",
       "        </tr>\n",
       "        <tr>\n",
       "            <td>16</td>\n",
       "            <td>1339572</td>\n",
       "        </tr>\n",
       "        <tr>\n",
       "            <td>19</td>\n",
       "            <td>2356692</td>\n",
       "        </tr>\n",
       "        <tr>\n",
       "            <td>20</td>\n",
       "            <td>1224492</td>\n",
       "        </tr>\n",
       "        <tr>\n",
       "            <td>27</td>\n",
       "            <td>1294188</td>\n",
       "        </tr>\n",
       "        <tr>\n",
       "            <td>28</td>\n",
       "            <td>1338984</td>\n",
       "        </tr>\n",
       "        <tr>\n",
       "            <td>29</td>\n",
       "            <td>1329204</td>\n",
       "        </tr>\n",
       "        <tr>\n",
       "            <td>37</td>\n",
       "            <td>1116228</td>\n",
       "        </tr>\n",
       "        <tr>\n",
       "            <td>38</td>\n",
       "            <td>1540056</td>\n",
       "        </tr>\n",
       "        <tr>\n",
       "            <td>42</td>\n",
       "            <td>1193208</td>\n",
       "        </tr>\n",
       "        <tr>\n",
       "            <td>44</td>\n",
       "            <td>1431684</td>\n",
       "        </tr>\n",
       "        <tr>\n",
       "            <td>46</td>\n",
       "            <td>1768380</td>\n",
       "        </tr>\n",
       "        <tr>\n",
       "            <td>47</td>\n",
       "            <td>1648368</td>\n",
       "        </tr>\n",
       "        <tr>\n",
       "            <td>50</td>\n",
       "            <td>2100084</td>\n",
       "        </tr>\n",
       "        <tr>\n",
       "            <td>51</td>\n",
       "            <td>1076580</td>\n",
       "        </tr>\n",
       "        <tr>\n",
       "            <td>52</td>\n",
       "            <td>2213160</td>\n",
       "        </tr>\n",
       "        <tr>\n",
       "            <td>53</td>\n",
       "            <td>1191024</td>\n",
       "        </tr>\n",
       "        <tr>\n",
       "            <td>54</td>\n",
       "            <td>4049400</td>\n",
       "        </tr>\n",
       "        <tr>\n",
       "            <td>55</td>\n",
       "            <td>1232232</td>\n",
       "        </tr>\n",
       "        <tr>\n",
       "            <td>56</td>\n",
       "            <td>1176792</td>\n",
       "        </tr>\n",
       "        <tr>\n",
       "            <td>57</td>\n",
       "            <td>1191504</td>\n",
       "        </tr>\n",
       "        <tr>\n",
       "            <td>60</td>\n",
       "            <td>1138812</td>\n",
       "        </tr>\n",
       "        <tr>\n",
       "            <td>62</td>\n",
       "            <td>1682040</td>\n",
       "        </tr>\n",
       "        <tr>\n",
       "            <td>64</td>\n",
       "            <td>3012768</td>\n",
       "        </tr>\n",
       "        <tr>\n",
       "            <td>66</td>\n",
       "            <td>1326540</td>\n",
       "        </tr>\n",
       "        <tr>\n",
       "            <td>67</td>\n",
       "            <td>1277796</td>\n",
       "        </tr>\n",
       "        <tr>\n",
       "            <td>68</td>\n",
       "            <td>2053752</td>\n",
       "        </tr>\n",
       "        <tr>\n",
       "            <td>69</td>\n",
       "            <td>1938432</td>\n",
       "        </tr>\n",
       "        <tr>\n",
       "            <td>70</td>\n",
       "            <td>3059820</td>\n",
       "        </tr>\n",
       "        <tr>\n",
       "            <td>72</td>\n",
       "            <td>2287596</td>\n",
       "        </tr>\n",
       "        <tr>\n",
       "            <td>73</td>\n",
       "            <td>1493076</td>\n",
       "        </tr>\n",
       "        <tr>\n",
       "            <td>74</td>\n",
       "            <td>3260220</td>\n",
       "        </tr>\n",
       "    </tbody>\n",
       "</table>"
      ],
      "text/plain": [
       "[(1, 12932412),\n",
       " (3, 1460796),\n",
       " (4, 1106520),\n",
       " (5, 1901160),\n",
       " (6, 2095980),\n",
       " (9, 1005084),\n",
       " (11, 1233096),\n",
       " (12, 1299192),\n",
       " (14, 2010924),\n",
       " (16, 1339572),\n",
       " (19, 2356692),\n",
       " (20, 1224492),\n",
       " (27, 1294188),\n",
       " (28, 1338984),\n",
       " (29, 1329204),\n",
       " (37, 1116228),\n",
       " (38, 1540056),\n",
       " (42, 1193208),\n",
       " (44, 1431684),\n",
       " (46, 1768380),\n",
       " (47, 1648368),\n",
       " (50, 2100084),\n",
       " (51, 1076580),\n",
       " (52, 2213160),\n",
       " (53, 1191024),\n",
       " (54, 4049400),\n",
       " (55, 1232232),\n",
       " (56, 1176792),\n",
       " (57, 1191504),\n",
       " (60, 1138812),\n",
       " (62, 1682040),\n",
       " (64, 3012768),\n",
       " (66, 1326540),\n",
       " (67, 1277796),\n",
       " (68, 2053752),\n",
       " (69, 1938432),\n",
       " (70, 3059820),\n",
       " (72, 2287596),\n",
       " (73, 1493076),\n",
       " (74, 3260220)]"
      ]
     },
     "execution_count": 27,
     "metadata": {},
     "output_type": "execute_result"
    }
   ],
   "source": [
    "%%sql\n",
    "SELECT Acc.district_id, SUM(L.amount) AS Total_loan\n",
    "FROM loan AS L\n",
    "INNER JOIN account AS Acc ON L.account_id = Acc.account_id\n",
    "GROUP BY Acc.district_id\n",
    "HAVING SUM(L.amount) > 1000000\n",
    "ORDER BY Acc.district_id;\n"
   ]
  },
  {
   "cell_type": "markdown",
   "metadata": {
    "id": "E0r-wsBMBMJP"
   },
   "source": [
    "#### **v. Fetch the top 5 clients with the highest loan payments.**\n"
   ]
  },
  {
   "cell_type": "code",
   "execution_count": 31,
   "metadata": {
    "id": "Ea5gX7hHBMJP"
   },
   "outputs": [
    {
     "name": "stdout",
     "output_type": "stream",
     "text": [
      " * sqlite:///Banking_data.db\n",
      "Done.\n"
     ]
    },
    {
     "data": {
      "text/html": [
       "<table>\n",
       "    <thead>\n",
       "        <tr>\n",
       "            <th>payments</th>\n",
       "        </tr>\n",
       "    </thead>\n",
       "    <tbody>\n",
       "        <tr>\n",
       "            <td>9910.0</td>\n",
       "        </tr>\n",
       "        <tr>\n",
       "            <td>9847.0</td>\n",
       "        </tr>\n",
       "        <tr>\n",
       "            <td>9736.0</td>\n",
       "        </tr>\n",
       "        <tr>\n",
       "            <td>9721.0</td>\n",
       "        </tr>\n",
       "        <tr>\n",
       "            <td>9698.0</td>\n",
       "        </tr>\n",
       "    </tbody>\n",
       "</table>"
      ],
      "text/plain": [
       "[(9910.0,), (9847.0,), (9736.0,), (9721.0,), (9698.0,)]"
      ]
     },
     "execution_count": 31,
     "metadata": {},
     "output_type": "execute_result"
    }
   ],
   "source": [
    "\n",
    "%%sql\n",
    "SELECT payments\n",
    "FROM loan \n",
    "ORDER BY payments DESC\n",
    "LIMIT 5"
   ]
  },
  {
   "cell_type": "markdown",
   "metadata": {
    "id": "Q395W_jRBMJQ"
   },
   "source": [
    "#### **vi. List the districts where more than 100 accounts have been opened.**"
   ]
  },
  {
   "cell_type": "code",
   "execution_count": 37,
   "metadata": {},
   "outputs": [
    {
     "name": "stdout",
     "output_type": "stream",
     "text": [
      " * sqlite:///Banking_data.db\n",
      "Done.\n"
     ]
    },
    {
     "data": {
      "text/html": [
       "<table>\n",
       "    <thead>\n",
       "        <tr>\n",
       "            <th>Count_acc</th>\n",
       "            <th>district_id</th>\n",
       "        </tr>\n",
       "    </thead>\n",
       "    <tbody>\n",
       "        <tr>\n",
       "            <td>554</td>\n",
       "            <td>1</td>\n",
       "        </tr>\n",
       "        <tr>\n",
       "            <td>128</td>\n",
       "            <td>54</td>\n",
       "        </tr>\n",
       "        <tr>\n",
       "            <td>152</td>\n",
       "            <td>70</td>\n",
       "        </tr>\n",
       "        <tr>\n",
       "            <td>135</td>\n",
       "            <td>74</td>\n",
       "        </tr>\n",
       "    </tbody>\n",
       "</table>"
      ],
      "text/plain": [
       "[(554, 1), (128, 54), (152, 70), (135, 74)]"
      ]
     },
     "execution_count": 37,
     "metadata": {},
     "output_type": "execute_result"
    }
   ],
   "source": [
    "%%sql\n",
    "SELECT COUNT(DISTINCT account_id) AS Count_acc, district_id\n",
    "FROM account\n",
    "GROUP BY district_id\n",
    "HAVING COUNT(DISTINCT account_id) > 100;\n"
   ]
  },
  {
   "cell_type": "markdown",
   "metadata": {
    "id": "Mven2RFZBMJQ"
   },
   "source": [
    "#### **vii. Count of all transactions where the transaction amount is above the average transaction amount for that account.**"
   ]
  },
  {
   "cell_type": "code",
   "execution_count": 42,
   "metadata": {},
   "outputs": [
    {
     "name": "stdout",
     "output_type": "stream",
     "text": [
      " * sqlite:///Banking_data.db\n",
      "Done.\n"
     ]
    },
    {
     "data": {
      "text/html": [
       "<table>\n",
       "    <thead>\n",
       "        <tr>\n",
       "            <th>AVG(amount)</th>\n",
       "        </tr>\n",
       "    </thead>\n",
       "    <tbody>\n",
       "        <tr>\n",
       "            <td>5924.145675836868</td>\n",
       "        </tr>\n",
       "    </tbody>\n",
       "</table>"
      ],
      "text/plain": [
       "[(5924.145675836868,)]"
      ]
     },
     "execution_count": 42,
     "metadata": {},
     "output_type": "execute_result"
    }
   ],
   "source": [
    "%%sql\n",
    "SELECT AVG(amount) \n",
    "FROM transactions\n"
   ]
  },
  {
   "cell_type": "code",
   "execution_count": 51,
   "metadata": {},
   "outputs": [
    {
     "name": "stdout",
     "output_type": "stream",
     "text": [
      " * sqlite:///Banking_data.db\n",
      "Done.\n"
     ]
    },
    {
     "data": {
      "text/html": [
       "<table>\n",
       "    <thead>\n",
       "        <tr>\n",
       "            <th>Count_Trans</th>\n",
       "        </tr>\n",
       "    </thead>\n",
       "    <tbody>\n",
       "        <tr>\n",
       "            <td>297057</td>\n",
       "        </tr>\n",
       "    </tbody>\n",
       "</table>"
      ],
      "text/plain": [
       "[(297057,)]"
      ]
     },
     "execution_count": 51,
     "metadata": {},
     "output_type": "execute_result"
    }
   ],
   "source": [
    "%%sql\n",
    "SELECT COUNT(T.amount) AS Count_Trans\n",
    "FROM transactions AS T\n",
    "WHERE T.amount > (SELECT AVG(amount) FROM transactions);\n"
   ]
  },
  {
   "cell_type": "markdown",
   "metadata": {
    "id": "7lefuU-2BMJQ"
   },
   "source": [
    "#### **viii. Find the total loan amount per district.**\n",
    "#### **Part A: Display the total loan amount issued per district.**\n",
    "#### **Part B: Count the number of districts where the total loan amount is above 500,000.**\n",
    "\n"
   ]
  },
  {
   "cell_type": "code",
   "execution_count": 52,
   "metadata": {
    "id": "liaRvoy3BMJQ"
   },
   "outputs": [
    {
     "name": "stdout",
     "output_type": "stream",
     "text": [
      " * sqlite:///Banking_data.db\n",
      "Done.\n"
     ]
    },
    {
     "data": {
      "text/html": [
       "<table>\n",
       "    <thead>\n",
       "        <tr>\n",
       "            <th>district_id</th>\n",
       "            <th>Total_loan</th>\n",
       "        </tr>\n",
       "    </thead>\n",
       "    <tbody>\n",
       "        <tr>\n",
       "            <td>1</td>\n",
       "            <td>12932412</td>\n",
       "        </tr>\n",
       "        <tr>\n",
       "            <td>2</td>\n",
       "            <td>887952</td>\n",
       "        </tr>\n",
       "        <tr>\n",
       "            <td>3</td>\n",
       "            <td>1460796</td>\n",
       "        </tr>\n",
       "        <tr>\n",
       "            <td>4</td>\n",
       "            <td>1106520</td>\n",
       "        </tr>\n",
       "        <tr>\n",
       "            <td>5</td>\n",
       "            <td>1901160</td>\n",
       "        </tr>\n",
       "        <tr>\n",
       "            <td>6</td>\n",
       "            <td>2095980</td>\n",
       "        </tr>\n",
       "        <tr>\n",
       "            <td>7</td>\n",
       "            <td>557796</td>\n",
       "        </tr>\n",
       "        <tr>\n",
       "            <td>8</td>\n",
       "            <td>617520</td>\n",
       "        </tr>\n",
       "        <tr>\n",
       "            <td>9</td>\n",
       "            <td>1005084</td>\n",
       "        </tr>\n",
       "        <tr>\n",
       "            <td>10</td>\n",
       "            <td>859464</td>\n",
       "        </tr>\n",
       "    </tbody>\n",
       "</table>"
      ],
      "text/plain": [
       "[(1, 12932412),\n",
       " (2, 887952),\n",
       " (3, 1460796),\n",
       " (4, 1106520),\n",
       " (5, 1901160),\n",
       " (6, 2095980),\n",
       " (7, 557796),\n",
       " (8, 617520),\n",
       " (9, 1005084),\n",
       " (10, 859464)]"
      ]
     },
     "execution_count": 52,
     "metadata": {},
     "output_type": "execute_result"
    }
   ],
   "source": [
    "%%sql\n",
    "SELECT Acc.district_id, SUM(L.amount) AS Total_loan\n",
    "FROM loan AS L\n",
    "INNER JOIN account AS Acc ON L.account_id = Acc.account_id\n",
    "GROUP BY Acc.district_id\n",
    "ORDER BY Acc.district_id\n",
    "LIMIT 10"
   ]
  },
  {
   "cell_type": "code",
   "execution_count": 59,
   "metadata": {
    "id": "CXI2oHbsBMJQ"
   },
   "outputs": [
    {
     "name": "stdout",
     "output_type": "stream",
     "text": [
      " * sqlite:///Banking_data.db\n",
      "Done.\n"
     ]
    },
    {
     "data": {
      "text/html": [
       "<table>\n",
       "    <thead>\n",
       "        <tr>\n",
       "            <th>Count_Districts</th>\n",
       "            <th>district_id</th>\n",
       "        </tr>\n",
       "    </thead>\n",
       "    <tbody>\n",
       "        <tr>\n",
       "            <td>84</td>\n",
       "            <td>1</td>\n",
       "        </tr>\n",
       "        <tr>\n",
       "            <td>6</td>\n",
       "            <td>2</td>\n",
       "        </tr>\n",
       "        <tr>\n",
       "            <td>6</td>\n",
       "            <td>3</td>\n",
       "        </tr>\n",
       "        <tr>\n",
       "            <td>7</td>\n",
       "            <td>4</td>\n",
       "        </tr>\n",
       "        <tr>\n",
       "            <td>10</td>\n",
       "            <td>5</td>\n",
       "        </tr>\n",
       "        <tr>\n",
       "            <td>9</td>\n",
       "            <td>6</td>\n",
       "        </tr>\n",
       "        <tr>\n",
       "            <td>6</td>\n",
       "            <td>7</td>\n",
       "        </tr>\n",
       "        <tr>\n",
       "            <td>5</td>\n",
       "            <td>8</td>\n",
       "        </tr>\n",
       "        <tr>\n",
       "            <td>9</td>\n",
       "            <td>9</td>\n",
       "        </tr>\n",
       "        <tr>\n",
       "            <td>5</td>\n",
       "            <td>10</td>\n",
       "        </tr>\n",
       "        <tr>\n",
       "            <td>11</td>\n",
       "            <td>11</td>\n",
       "        </tr>\n",
       "        <tr>\n",
       "            <td>8</td>\n",
       "            <td>12</td>\n",
       "        </tr>\n",
       "        <tr>\n",
       "            <td>8</td>\n",
       "            <td>13</td>\n",
       "        </tr>\n",
       "        <tr>\n",
       "            <td>8</td>\n",
       "            <td>14</td>\n",
       "        </tr>\n",
       "        <tr>\n",
       "            <td>7</td>\n",
       "            <td>15</td>\n",
       "        </tr>\n",
       "        <tr>\n",
       "            <td>11</td>\n",
       "            <td>16</td>\n",
       "        </tr>\n",
       "        <tr>\n",
       "            <td>14</td>\n",
       "            <td>19</td>\n",
       "        </tr>\n",
       "        <tr>\n",
       "            <td>6</td>\n",
       "            <td>20</td>\n",
       "        </tr>\n",
       "        <tr>\n",
       "            <td>7</td>\n",
       "            <td>21</td>\n",
       "        </tr>\n",
       "        <tr>\n",
       "            <td>8</td>\n",
       "            <td>24</td>\n",
       "        </tr>\n",
       "        <tr>\n",
       "            <td>6</td>\n",
       "            <td>26</td>\n",
       "        </tr>\n",
       "        <tr>\n",
       "            <td>9</td>\n",
       "            <td>27</td>\n",
       "        </tr>\n",
       "        <tr>\n",
       "            <td>7</td>\n",
       "            <td>28</td>\n",
       "        </tr>\n",
       "        <tr>\n",
       "            <td>8</td>\n",
       "            <td>29</td>\n",
       "        </tr>\n",
       "        <tr>\n",
       "            <td>8</td>\n",
       "            <td>31</td>\n",
       "        </tr>\n",
       "        <tr>\n",
       "            <td>4</td>\n",
       "            <td>33</td>\n",
       "        </tr>\n",
       "        <tr>\n",
       "            <td>9</td>\n",
       "            <td>34</td>\n",
       "        </tr>\n",
       "        <tr>\n",
       "            <td>7</td>\n",
       "            <td>36</td>\n",
       "        </tr>\n",
       "        <tr>\n",
       "            <td>7</td>\n",
       "            <td>37</td>\n",
       "        </tr>\n",
       "        <tr>\n",
       "            <td>13</td>\n",
       "            <td>38</td>\n",
       "        </tr>\n",
       "        <tr>\n",
       "            <td>5</td>\n",
       "            <td>39</td>\n",
       "        </tr>\n",
       "        <tr>\n",
       "            <td>6</td>\n",
       "            <td>40</td>\n",
       "        </tr>\n",
       "        <tr>\n",
       "            <td>7</td>\n",
       "            <td>42</td>\n",
       "        </tr>\n",
       "        <tr>\n",
       "            <td>5</td>\n",
       "            <td>43</td>\n",
       "        </tr>\n",
       "        <tr>\n",
       "            <td>8</td>\n",
       "            <td>44</td>\n",
       "        </tr>\n",
       "        <tr>\n",
       "            <td>7</td>\n",
       "            <td>45</td>\n",
       "        </tr>\n",
       "        <tr>\n",
       "            <td>6</td>\n",
       "            <td>46</td>\n",
       "        </tr>\n",
       "        <tr>\n",
       "            <td>10</td>\n",
       "            <td>47</td>\n",
       "        </tr>\n",
       "        <tr>\n",
       "            <td>6</td>\n",
       "            <td>48</td>\n",
       "        </tr>\n",
       "        <tr>\n",
       "            <td>12</td>\n",
       "            <td>50</td>\n",
       "        </tr>\n",
       "        <tr>\n",
       "            <td>6</td>\n",
       "            <td>51</td>\n",
       "        </tr>\n",
       "        <tr>\n",
       "            <td>14</td>\n",
       "            <td>52</td>\n",
       "        </tr>\n",
       "        <tr>\n",
       "            <td>7</td>\n",
       "            <td>53</td>\n",
       "        </tr>\n",
       "        <tr>\n",
       "            <td>24</td>\n",
       "            <td>54</td>\n",
       "        </tr>\n",
       "        <tr>\n",
       "            <td>10</td>\n",
       "            <td>55</td>\n",
       "        </tr>\n",
       "        <tr>\n",
       "            <td>7</td>\n",
       "            <td>56</td>\n",
       "        </tr>\n",
       "        <tr>\n",
       "            <td>6</td>\n",
       "            <td>57</td>\n",
       "        </tr>\n",
       "        <tr>\n",
       "            <td>9</td>\n",
       "            <td>59</td>\n",
       "        </tr>\n",
       "        <tr>\n",
       "            <td>9</td>\n",
       "            <td>60</td>\n",
       "        </tr>\n",
       "        <tr>\n",
       "            <td>6</td>\n",
       "            <td>61</td>\n",
       "        </tr>\n",
       "        <tr>\n",
       "            <td>10</td>\n",
       "            <td>62</td>\n",
       "        </tr>\n",
       "        <tr>\n",
       "            <td>7</td>\n",
       "            <td>63</td>\n",
       "        </tr>\n",
       "        <tr>\n",
       "            <td>17</td>\n",
       "            <td>64</td>\n",
       "        </tr>\n",
       "        <tr>\n",
       "            <td>6</td>\n",
       "            <td>65</td>\n",
       "        </tr>\n",
       "        <tr>\n",
       "            <td>7</td>\n",
       "            <td>66</td>\n",
       "        </tr>\n",
       "        <tr>\n",
       "            <td>6</td>\n",
       "            <td>67</td>\n",
       "        </tr>\n",
       "        <tr>\n",
       "            <td>16</td>\n",
       "            <td>68</td>\n",
       "        </tr>\n",
       "        <tr>\n",
       "            <td>8</td>\n",
       "            <td>69</td>\n",
       "        </tr>\n",
       "        <tr>\n",
       "            <td>24</td>\n",
       "            <td>70</td>\n",
       "        </tr>\n",
       "        <tr>\n",
       "            <td>6</td>\n",
       "            <td>71</td>\n",
       "        </tr>\n",
       "        <tr>\n",
       "            <td>14</td>\n",
       "            <td>72</td>\n",
       "        </tr>\n",
       "        <tr>\n",
       "            <td>8</td>\n",
       "            <td>73</td>\n",
       "        </tr>\n",
       "        <tr>\n",
       "            <td>20</td>\n",
       "            <td>74</td>\n",
       "        </tr>\n",
       "        <tr>\n",
       "            <td>4</td>\n",
       "            <td>75</td>\n",
       "        </tr>\n",
       "        <tr>\n",
       "            <td>5</td>\n",
       "            <td>76</td>\n",
       "        </tr>\n",
       "    </tbody>\n",
       "</table>"
      ],
      "text/plain": [
       "[(84, 1),\n",
       " (6, 2),\n",
       " (6, 3),\n",
       " (7, 4),\n",
       " (10, 5),\n",
       " (9, 6),\n",
       " (6, 7),\n",
       " (5, 8),\n",
       " (9, 9),\n",
       " (5, 10),\n",
       " (11, 11),\n",
       " (8, 12),\n",
       " (8, 13),\n",
       " (8, 14),\n",
       " (7, 15),\n",
       " (11, 16),\n",
       " (14, 19),\n",
       " (6, 20),\n",
       " (7, 21),\n",
       " (8, 24),\n",
       " (6, 26),\n",
       " (9, 27),\n",
       " (7, 28),\n",
       " (8, 29),\n",
       " (8, 31),\n",
       " (4, 33),\n",
       " (9, 34),\n",
       " (7, 36),\n",
       " (7, 37),\n",
       " (13, 38),\n",
       " (5, 39),\n",
       " (6, 40),\n",
       " (7, 42),\n",
       " (5, 43),\n",
       " (8, 44),\n",
       " (7, 45),\n",
       " (6, 46),\n",
       " (10, 47),\n",
       " (6, 48),\n",
       " (12, 50),\n",
       " (6, 51),\n",
       " (14, 52),\n",
       " (7, 53),\n",
       " (24, 54),\n",
       " (10, 55),\n",
       " (7, 56),\n",
       " (6, 57),\n",
       " (9, 59),\n",
       " (9, 60),\n",
       " (6, 61),\n",
       " (10, 62),\n",
       " (7, 63),\n",
       " (17, 64),\n",
       " (6, 65),\n",
       " (7, 66),\n",
       " (6, 67),\n",
       " (16, 68),\n",
       " (8, 69),\n",
       " (24, 70),\n",
       " (6, 71),\n",
       " (14, 72),\n",
       " (8, 73),\n",
       " (20, 74),\n",
       " (4, 75),\n",
       " (5, 76)]"
      ]
     },
     "execution_count": 59,
     "metadata": {},
     "output_type": "execute_result"
    }
   ],
   "source": [
    "%%sql\n",
    "SELECT COUNT(Acc.district_id) AS Count_Districts, Acc.district_id\n",
    "FROM loan AS L\n",
    "INNER JOIN account AS Acc ON L.account_id = Acc.account_id\n",
    "GROUP BY Acc.district_id\n",
    "HAVING SUM(L.amount) > 500000;\n"
   ]
  },
  {
   "cell_type": "markdown",
   "metadata": {
    "id": "17qzmemhBMJQ"
   },
   "source": [
    "### **ix. Find all clients who own multiple accounts.**"
   ]
  },
  {
   "cell_type": "code",
   "execution_count": 68,
   "metadata": {},
   "outputs": [
    {
     "name": "stdout",
     "output_type": "stream",
     "text": [
      " * sqlite:///Banking_data.db\n",
      "Done.\n"
     ]
    },
    {
     "data": {
      "text/html": [
       "<table>\n",
       "    <thead>\n",
       "        <tr>\n",
       "            <th>Count_acc</th>\n",
       "            <th>district_id</th>\n",
       "        </tr>\n",
       "    </thead>\n",
       "    <tbody>\n",
       "        <tr>\n",
       "            <td>554</td>\n",
       "            <td>1</td>\n",
       "        </tr>\n",
       "        <tr>\n",
       "            <td>42</td>\n",
       "            <td>2</td>\n",
       "        </tr>\n",
       "        <tr>\n",
       "            <td>50</td>\n",
       "            <td>3</td>\n",
       "        </tr>\n",
       "        <tr>\n",
       "            <td>48</td>\n",
       "            <td>4</td>\n",
       "        </tr>\n",
       "        <tr>\n",
       "            <td>65</td>\n",
       "            <td>5</td>\n",
       "        </tr>\n",
       "        <tr>\n",
       "            <td>48</td>\n",
       "            <td>6</td>\n",
       "        </tr>\n",
       "        <tr>\n",
       "            <td>44</td>\n",
       "            <td>7</td>\n",
       "        </tr>\n",
       "        <tr>\n",
       "            <td>56</td>\n",
       "            <td>8</td>\n",
       "        </tr>\n",
       "        <tr>\n",
       "            <td>46</td>\n",
       "            <td>9</td>\n",
       "        </tr>\n",
       "        <tr>\n",
       "            <td>48</td>\n",
       "            <td>10</td>\n",
       "        </tr>\n",
       "        <tr>\n",
       "            <td>48</td>\n",
       "            <td>11</td>\n",
       "        </tr>\n",
       "        <tr>\n",
       "            <td>42</td>\n",
       "            <td>12</td>\n",
       "        </tr>\n",
       "        <tr>\n",
       "            <td>37</td>\n",
       "            <td>13</td>\n",
       "        </tr>\n",
       "        <tr>\n",
       "            <td>41</td>\n",
       "            <td>14</td>\n",
       "        </tr>\n",
       "        <tr>\n",
       "            <td>50</td>\n",
       "            <td>15</td>\n",
       "        </tr>\n",
       "        <tr>\n",
       "            <td>52</td>\n",
       "            <td>16</td>\n",
       "        </tr>\n",
       "        <tr>\n",
       "            <td>42</td>\n",
       "            <td>17</td>\n",
       "        </tr>\n",
       "        <tr>\n",
       "            <td>46</td>\n",
       "            <td>18</td>\n",
       "        </tr>\n",
       "        <tr>\n",
       "            <td>55</td>\n",
       "            <td>19</td>\n",
       "        </tr>\n",
       "        <tr>\n",
       "            <td>36</td>\n",
       "            <td>20</td>\n",
       "        </tr>\n",
       "        <tr>\n",
       "            <td>48</td>\n",
       "            <td>21</td>\n",
       "        </tr>\n",
       "        <tr>\n",
       "            <td>36</td>\n",
       "            <td>22</td>\n",
       "        </tr>\n",
       "        <tr>\n",
       "            <td>50</td>\n",
       "            <td>23</td>\n",
       "        </tr>\n",
       "        <tr>\n",
       "            <td>42</td>\n",
       "            <td>24</td>\n",
       "        </tr>\n",
       "        <tr>\n",
       "            <td>42</td>\n",
       "            <td>25</td>\n",
       "        </tr>\n",
       "        <tr>\n",
       "            <td>45</td>\n",
       "            <td>26</td>\n",
       "        </tr>\n",
       "        <tr>\n",
       "            <td>39</td>\n",
       "            <td>27</td>\n",
       "        </tr>\n",
       "        <tr>\n",
       "            <td>45</td>\n",
       "            <td>28</td>\n",
       "        </tr>\n",
       "        <tr>\n",
       "            <td>43</td>\n",
       "            <td>29</td>\n",
       "        </tr>\n",
       "        <tr>\n",
       "            <td>38</td>\n",
       "            <td>30</td>\n",
       "        </tr>\n",
       "        <tr>\n",
       "            <td>50</td>\n",
       "            <td>31</td>\n",
       "        </tr>\n",
       "        <tr>\n",
       "            <td>48</td>\n",
       "            <td>32</td>\n",
       "        </tr>\n",
       "        <tr>\n",
       "            <td>49</td>\n",
       "            <td>33</td>\n",
       "        </tr>\n",
       "        <tr>\n",
       "            <td>39</td>\n",
       "            <td>34</td>\n",
       "        </tr>\n",
       "        <tr>\n",
       "            <td>43</td>\n",
       "            <td>35</td>\n",
       "        </tr>\n",
       "        <tr>\n",
       "            <td>57</td>\n",
       "            <td>36</td>\n",
       "        </tr>\n",
       "        <tr>\n",
       "            <td>37</td>\n",
       "            <td>37</td>\n",
       "        </tr>\n",
       "        <tr>\n",
       "            <td>54</td>\n",
       "            <td>38</td>\n",
       "        </tr>\n",
       "        <tr>\n",
       "            <td>41</td>\n",
       "            <td>39</td>\n",
       "        </tr>\n",
       "        <tr>\n",
       "            <td>44</td>\n",
       "            <td>40</td>\n",
       "        </tr>\n",
       "        <tr>\n",
       "            <td>45</td>\n",
       "            <td>41</td>\n",
       "        </tr>\n",
       "        <tr>\n",
       "            <td>48</td>\n",
       "            <td>42</td>\n",
       "        </tr>\n",
       "        <tr>\n",
       "            <td>49</td>\n",
       "            <td>43</td>\n",
       "        </tr>\n",
       "        <tr>\n",
       "            <td>50</td>\n",
       "            <td>44</td>\n",
       "        </tr>\n",
       "        <tr>\n",
       "            <td>41</td>\n",
       "            <td>45</td>\n",
       "        </tr>\n",
       "        <tr>\n",
       "            <td>59</td>\n",
       "            <td>46</td>\n",
       "        </tr>\n",
       "        <tr>\n",
       "            <td>53</td>\n",
       "            <td>47</td>\n",
       "        </tr>\n",
       "        <tr>\n",
       "            <td>53</td>\n",
       "            <td>48</td>\n",
       "        </tr>\n",
       "        <tr>\n",
       "            <td>37</td>\n",
       "            <td>49</td>\n",
       "        </tr>\n",
       "        <tr>\n",
       "            <td>48</td>\n",
       "            <td>50</td>\n",
       "        </tr>\n",
       "        <tr>\n",
       "            <td>49</td>\n",
       "            <td>51</td>\n",
       "        </tr>\n",
       "        <tr>\n",
       "            <td>57</td>\n",
       "            <td>52</td>\n",
       "        </tr>\n",
       "        <tr>\n",
       "            <td>50</td>\n",
       "            <td>53</td>\n",
       "        </tr>\n",
       "        <tr>\n",
       "            <td>128</td>\n",
       "            <td>54</td>\n",
       "        </tr>\n",
       "        <tr>\n",
       "            <td>53</td>\n",
       "            <td>55</td>\n",
       "        </tr>\n",
       "        <tr>\n",
       "            <td>44</td>\n",
       "            <td>56</td>\n",
       "        </tr>\n",
       "        <tr>\n",
       "            <td>41</td>\n",
       "            <td>57</td>\n",
       "        </tr>\n",
       "        <tr>\n",
       "            <td>32</td>\n",
       "            <td>58</td>\n",
       "        </tr>\n",
       "        <tr>\n",
       "            <td>57</td>\n",
       "            <td>59</td>\n",
       "        </tr>\n",
       "        <tr>\n",
       "            <td>51</td>\n",
       "            <td>60</td>\n",
       "        </tr>\n",
       "        <tr>\n",
       "            <td>45</td>\n",
       "            <td>61</td>\n",
       "        </tr>\n",
       "        <tr>\n",
       "            <td>44</td>\n",
       "            <td>62</td>\n",
       "        </tr>\n",
       "        <tr>\n",
       "            <td>49</td>\n",
       "            <td>63</td>\n",
       "        </tr>\n",
       "        <tr>\n",
       "            <td>92</td>\n",
       "            <td>64</td>\n",
       "        </tr>\n",
       "        <tr>\n",
       "            <td>39</td>\n",
       "            <td>65</td>\n",
       "        </tr>\n",
       "        <tr>\n",
       "            <td>53</td>\n",
       "            <td>66</td>\n",
       "        </tr>\n",
       "        <tr>\n",
       "            <td>43</td>\n",
       "            <td>67</td>\n",
       "        </tr>\n",
       "        <tr>\n",
       "            <td>83</td>\n",
       "            <td>68</td>\n",
       "        </tr>\n",
       "        <tr>\n",
       "            <td>48</td>\n",
       "            <td>69</td>\n",
       "        </tr>\n",
       "        <tr>\n",
       "            <td>152</td>\n",
       "            <td>70</td>\n",
       "        </tr>\n",
       "        <tr>\n",
       "            <td>42</td>\n",
       "            <td>71</td>\n",
       "        </tr>\n",
       "        <tr>\n",
       "            <td>88</td>\n",
       "            <td>72</td>\n",
       "        </tr>\n",
       "        <tr>\n",
       "            <td>56</td>\n",
       "            <td>73</td>\n",
       "        </tr>\n",
       "        <tr>\n",
       "            <td>135</td>\n",
       "            <td>74</td>\n",
       "        </tr>\n",
       "        <tr>\n",
       "            <td>51</td>\n",
       "            <td>75</td>\n",
       "        </tr>\n",
       "        <tr>\n",
       "            <td>55</td>\n",
       "            <td>76</td>\n",
       "        </tr>\n",
       "        <tr>\n",
       "            <td>40</td>\n",
       "            <td>77</td>\n",
       "        </tr>\n",
       "    </tbody>\n",
       "</table>"
      ],
      "text/plain": [
       "[(554, 1),\n",
       " (42, 2),\n",
       " (50, 3),\n",
       " (48, 4),\n",
       " (65, 5),\n",
       " (48, 6),\n",
       " (44, 7),\n",
       " (56, 8),\n",
       " (46, 9),\n",
       " (48, 10),\n",
       " (48, 11),\n",
       " (42, 12),\n",
       " (37, 13),\n",
       " (41, 14),\n",
       " (50, 15),\n",
       " (52, 16),\n",
       " (42, 17),\n",
       " (46, 18),\n",
       " (55, 19),\n",
       " (36, 20),\n",
       " (48, 21),\n",
       " (36, 22),\n",
       " (50, 23),\n",
       " (42, 24),\n",
       " (42, 25),\n",
       " (45, 26),\n",
       " (39, 27),\n",
       " (45, 28),\n",
       " (43, 29),\n",
       " (38, 30),\n",
       " (50, 31),\n",
       " (48, 32),\n",
       " (49, 33),\n",
       " (39, 34),\n",
       " (43, 35),\n",
       " (57, 36),\n",
       " (37, 37),\n",
       " (54, 38),\n",
       " (41, 39),\n",
       " (44, 40),\n",
       " (45, 41),\n",
       " (48, 42),\n",
       " (49, 43),\n",
       " (50, 44),\n",
       " (41, 45),\n",
       " (59, 46),\n",
       " (53, 47),\n",
       " (53, 48),\n",
       " (37, 49),\n",
       " (48, 50),\n",
       " (49, 51),\n",
       " (57, 52),\n",
       " (50, 53),\n",
       " (128, 54),\n",
       " (53, 55),\n",
       " (44, 56),\n",
       " (41, 57),\n",
       " (32, 58),\n",
       " (57, 59),\n",
       " (51, 60),\n",
       " (45, 61),\n",
       " (44, 62),\n",
       " (49, 63),\n",
       " (92, 64),\n",
       " (39, 65),\n",
       " (53, 66),\n",
       " (43, 67),\n",
       " (83, 68),\n",
       " (48, 69),\n",
       " (152, 70),\n",
       " (42, 71),\n",
       " (88, 72),\n",
       " (56, 73),\n",
       " (135, 74),\n",
       " (51, 75),\n",
       " (55, 76),\n",
       " (40, 77)]"
      ]
     },
     "execution_count": 68,
     "metadata": {},
     "output_type": "execute_result"
    }
   ],
   "source": [
    "%%sql\n",
    "SELECT COUNT(DISTINCT account_id) AS Count_acc, C.district_id\n",
    "FROM client AS C\n",
    "INNER JOIN account AS A ON C.district_id = A.district_id\n",
    "GROUP BY C.district_id\n",
    "HAVING COUNT(DISTINCT A.account_id) > 1;"
   ]
  },
  {
   "cell_type": "markdown",
   "metadata": {
    "id": "u4QaiNrYBMJQ"
   },
   "source": [
    "#### **x. List all credit card types available in the system.**"
   ]
  },
  {
   "cell_type": "code",
   "execution_count": 75,
   "metadata": {
    "id": "6N89DthwBMJQ"
   },
   "outputs": [
    {
     "name": "stdout",
     "output_type": "stream",
     "text": [
      " * sqlite:///Banking_data.db\n",
      "Done.\n"
     ]
    },
    {
     "data": {
      "text/html": [
       "<table>\n",
       "    <thead>\n",
       "        <tr>\n",
       "            <th>type</th>\n",
       "        </tr>\n",
       "    </thead>\n",
       "    <tbody>\n",
       "        <tr>\n",
       "            <td>classic</td>\n",
       "        </tr>\n",
       "        <tr>\n",
       "            <td>gold</td>\n",
       "        </tr>\n",
       "        <tr>\n",
       "            <td>junior</td>\n",
       "        </tr>\n",
       "    </tbody>\n",
       "</table>"
      ],
      "text/plain": [
       "[('classic',), ('gold',), ('junior',)]"
      ]
     },
     "execution_count": 75,
     "metadata": {},
     "output_type": "execute_result"
    }
   ],
   "source": [
    "%%sql\n",
    "SELECT type \n",
    "FROM card \n",
    "GROUP BY type"
   ]
  },
  {
   "cell_type": "markdown",
   "metadata": {
    "id": "oFFqjrFSBMJR"
   },
   "source": [
    "## PART 2. PYTHON - Conduct exploratory data analysis to answer the following questions:\n",
    "\n",
    "**Hint:**\n",
    "- Use Pandas to solve these questions (not mandatory but preferable).\n",
    "- This part also requires you to plot where necessary.\n",
    "- You can load the data to Pandas Dataframes directly from the DB with the code as below\n",
    "```\n",
    "import sqlite3\n",
    "import pandas as pd\n",
    "\n",
    "# Step 1: Connect to the SQLite Database\n",
    "db_path = 'path_to_your_database.db'  # Replace with the actual path to your database\n",
    "conn = sqlite3.connect(db_path)\n",
    "\n",
    "# Step 2: Load Data from Database Tables into Pandas DataFrames\n",
    "# Example: Loading the 'client' table\n",
    "client_df = pd.read_sql_query(\"SELECT * FROM client\", conn)\n",
    "\n",
    "\n",
    "# Step 3: Close the database connection after loading the data\n",
    "conn.close()\n",
    "```\n",
    "\n",
    "**Incase you get DB error, then please feel free to directly load the csv files provided. Please Note that you have to load all the csv files, as you need all of them to answer the questions below.**"
   ]
  },
  {
   "cell_type": "markdown",
   "metadata": {
    "id": "RVMFRL_KBMJR"
   },
   "source": [
    "### a. Clients\n",
    "#### i. Which Districts have the highest number of customers? Try to visualize your Answer using seaborn\n",
    "\n",
    "\tHints:\n",
    "\n",
    "\t1.\tHint 1:\n",
    "You need to join the client table with the account table using the common column account_id. After that, you can group by district_id to count how many customers are in each district.\n",
    "\t•\tTip: Use pd.merge() to combine the DataFrames and groupby() to aggregate the data.\n",
    "\n",
    "\t2.\tHint 2:\n",
    "To visualize, you can use a bar plot with district_id on the x-axis and the count of customers on the y-axis. Seaborn’s barplot() is ideal for this.\n",
    "\t•\tTip: Use Seaborn’s sns.barplot() function for the visualization."
   ]
  },
  {
   "cell_type": "code",
   "execution_count": null,
   "metadata": {
    "id": "hgK_TXNlBMJR"
   },
   "outputs": [],
   "source": [
    "#Your Code Here\n",
    "\n",
    "import sqlite3\n",
    "import pandas as pd\n",
    "pd.set_option('display.max_colwidth', None)\n",
    "conn = sqlite3.connect('Banking_data.db')\n",
    "df = pd.read_sql_query(\"SELECT * FROM client\", conn)\n",
    "df.head()"
   ]
  },
  {
   "cell_type": "code",
   "execution_count": 104,
   "metadata": {},
   "outputs": [
    {
     "name": "stdout",
     "output_type": "stream",
     "text": [
      "   district_id  customers\n",
      "0            1        663\n",
      "1           74        180\n",
      "2           70        169\n",
      "3           54        155\n",
      "4           64        109\n"
     ]
    },
    {
     "name": "stderr",
     "output_type": "stream",
     "text": [
      "C:\\Users\\USER\\AppData\\Local\\Temp\\ipykernel_10756\\2209647963.py:29: FutureWarning: \n",
      "\n",
      "Passing `palette` without assigning `hue` is deprecated and will be removed in v0.14.0. Assign the `x` variable to `hue` and set `legend=False` for the same effect.\n",
      "\n",
      "  sns.barplot(data=df, x='district_id', y='customers', palette='viridis')\n"
     ]
    },
    {
     "data": {
      "image/png": "[encoded data removed]",
      "text/plain": [
       "<Figure size 1000x600 with 1 Axes>"
      ]
     },
     "metadata": {},
     "output_type": "display_data"
    }
   ],
   "source": [
    "import seaborn as sns\n",
    "import matplotlib.pyplot as plt\n",
    "conn = sqlite3.connect('Banking_data.db')\n",
    "\n",
    "# Execute the query\n",
    "query = '''\n",
    "SELECT \n",
    "    A.district_id,\n",
    "    COUNT(DISTINCT C.client_id) AS customers\n",
    "FROM \n",
    "    client AS C\n",
    "INNER JOIN \n",
    "   account AS A ON C.district_id= A.district_id\n",
    "GROUP BY \n",
    "    A.district_id\n",
    "ORDER BY \n",
    "    customers DESC\n",
    "    \n",
    "    LIMIT 5;\n",
    "'''\n",
    "\n",
    "df = pd.read_sql_query(query, conn)\n",
    "\n",
    "# Display the top districts with the most customers\n",
    "print(df)\n",
    "\n",
    "plt.figure(figsize=(10, 6))\n",
    "sns.barplot(data=df, x='district_id', y='customers', palette='viridis')\n",
    "plt.title('Number of Customers by District', fontsize=16)\n",
    "plt.xlabel('District ID', fontsize=12)\n",
    "plt.ylabel('Number of Customers', fontsize=12)\n",
    "plt.xticks(rotation=45)\n",
    "plt.show()"
   ]
  },
  {
   "cell_type": "markdown",
   "metadata": {
    "id": "YhHIua6zBMJR"
   },
   "source": [
    "#### ii. Which district have shown a significant decline in the monthly number of accounts opened?\n",
    "\n",
    "\tHints:\n",
    "\n",
    "\t1.\tHint 1:\n",
    "Start by extracting the month and year from the date column in the account table. Then group by district_id and month/year to calculate the number of accounts opened per district each month.\n",
    "\n",
    "\t•\tTip: Use pd.to_datetime() to convert the date and .dt.to_period('M') to extract the year and month.\n",
    "\n",
    "\t2.\tHint 2:\n",
    "To detect a significant decline, calculate the percentage change in the number of accounts opened for each district month-over-month. Focus on identifying districts with large negative changes.\n",
    "\n",
    "\t•\tTip: Use groupby() and pct_change() to find the percentage change in account openings.\n"
   ]
  },
  {
   "cell_type": "code",
   "execution_count": null,
   "metadata": {},
   "outputs": [],
   "source": [
    "conn = sqlite3.connect('Banking_data.db')\n",
    "\n",
    "# Load the account data\n",
    "account = pd.read_sql_query(\"SELECT * FROM account\", conn)\n",
    "\n",
    "#convert date and extract the year and month\n",
    "account['date'] = pd.to_datetime(account['date']) \n",
    "account['month_year'] = account['date'].dt.to_period('M')\n",
    "\n",
    "#Group by district_id and month/year to count accounts\n",
    "monthly_acc = account.groupby(['district_id', 'month_year']).size().reset_index(name='num_accounts')\n",
    "\n",
    "#Calculate the percentage change\n",
    "monthly_acc['pct_change'] = monthly_acc.groupby('district_id')['num_accounts'].pct_change()\n",
    "\n",
    "#Filter districts with significant decline\n",
    "significant_decline = monthly_acc[monthly_acc['pct_change'] < -0.5] \n",
    "\n",
    "print(significant_decline)\n"
   ]
  },
  {
   "cell_type": "code",
   "execution_count": null,
   "metadata": {},
   "outputs": [],
   "source": [
    "conn = sqlite3.connect('Banking_data.db')\n",
    "\n",
    "# Execute the query\n",
    "query = '''\n",
    "SELECT \n",
    "    district_id\n",
    "    date\n",
    "FROM \n",
    "    account\n",
    "\n",
    "GROUP BY \n",
    "    date\n",
    "WHERE date= \n",
    "ORDER BY \n",
    "    customers DESC\n",
    "    \n",
    "    LIMIT 5;\n",
    "'''\n",
    "\n",
    "df = pd.read_sql_query(query, conn)\n",
    "\n",
    "# Display the top districts with the most customers\n",
    "print(df)"
   ]
  },
  {
   "cell_type": "markdown",
   "metadata": {
    "id": "9UzLm8KRBMJR"
   },
   "source": [
    "#### iii. How many of our clients are men/women?\n",
    "\n",
    "\tHints:\n",
    "\n",
    "\t•\tFemales have +50 added to their Month in Date of birth,so whereas a normal month will be 01-12,\n",
    "\t\tfemales may have 51-62\n",
    "\t•\tIts better to create a new column Named Gender.\n",
    "\t•\tTry to utilize .str[] method and extract the Month part of the date.\n"
   ]
  },
  {
   "cell_type": "code",
   "execution_count": null,
   "metadata": {
    "id": "Yv6p1KP3BMJR"
   },
   "outputs": [],
   "source": [
    "#Your Code Here"
   ]
  },
  {
   "cell_type": "markdown",
   "metadata": {
    "id": "gAhdhdlQBMJR"
   },
   "source": [
    "#### iv. In the client DataFrame, check if the birthdate column is in the correct format (YYYY-MM-DD). If not, convert it to the correct datetime format.\n",
    "\n",
    "\t•\tHint: Use pd.to_datetime() to ensure the column is in datetime format.\n",
    "\t•\tFemales have +50 added to their Month in Date of birth. You may need to handle this beforehand"
   ]
  },
  {
   "cell_type": "code",
   "execution_count": null,
   "metadata": {
    "id": "Rwjbgg_DBMJY"
   },
   "outputs": [],
   "source": [
    "#Your Code Here"
   ]
  },
  {
   "cell_type": "markdown",
   "metadata": {
    "id": "1Hji23rPBMJY"
   },
   "source": [
    "####  v. Calculate the age of each client and add it as a new column in the client_df DataFrame. Use the birth_number column to determine the birth year, month, and day. Then, calculate the age based on the current year.\n",
    "    •   \tHints:\n",
    "\t•\tThe birth_number field is in the format YYMMDD, where:\n",
    "\t•\tYY is the last two digits of the year.\n",
    "\t•\tMM is the month of birth (note: for women, 50 is added to the month).\n",
    "\t•\tDD is the day of birth.\n",
    "\n",
    "\t•\tSteps:\n",
    "\t1.\tExtract the year, month, and day from the birth_number column.\n",
    "\t2.\tHandle cases where MM is greater than 50 (i.e., for women).\n",
    "\t3.\tConvert the extracted birth date into a datetime object.\n",
    "\t4.\tSubtract the birth year from the current year to calculate age.\n"
   ]
  },
  {
   "cell_type": "code",
   "execution_count": null,
   "metadata": {
    "id": "OmUzvEFjBMJY"
   },
   "outputs": [],
   "source": [
    "#Your Code Here"
   ]
  },
  {
   "cell_type": "markdown",
   "metadata": {
    "id": "0DFVgKQ8BMJY"
   },
   "source": [
    "### b. Credit Cards\n"
   ]
  },
  {
   "cell_type": "markdown",
   "metadata": {
    "id": "v5ET68y2BMJY"
   },
   "source": [
    "#### i. Which card types are popular among the various client categories (gender/age group/region)?\n",
    "      Hints:\n",
    "- You can read the query in pandas and plot for ease"
   ]
  },
  {
   "cell_type": "code",
   "execution_count": null,
   "metadata": {
    "id": "Ddhw9cs4BMJY"
   },
   "outputs": [],
   "source": [
    "#Your Code Here"
   ]
  },
  {
   "cell_type": "markdown",
   "metadata": {
    "id": "AY__vlRoBMJY"
   },
   "source": [
    "#### ii. What is the trend of card issuance at the various branches?\n",
    "\n",
    "\tHints:\n",
    "You can analyze the issuance dates from the card table. First, ensure that the issued column (which stores the issuance date) is converted to a datetime format.\n",
    "\n",
    "\t•\tTip: Use pd.to_datetime() to convert the issued column to a datetime format.\n",
    "    \n",
    "After you have processed the issuance dates, group by the branch (district_id) and the issuance period (month or year) to observe the trend of card issuance over time at different branches.\n",
    "\n",
    "\t•\tTip: Use groupby() on district_id and the issuance date (grouped by month or year), and then visualize using Seaborn to observe trends."
   ]
  },
  {
   "cell_type": "code",
   "execution_count": null,
   "metadata": {
    "id": "7NkbRtC8BMJY"
   },
   "outputs": [],
   "source": [
    "#Your Code Here"
   ]
  },
  {
   "cell_type": "markdown",
   "metadata": {
    "id": "MzKIEYMxBMJZ"
   },
   "source": [
    "### c. Loans\n"
   ]
  },
  {
   "cell_type": "markdown",
   "metadata": {
    "id": "0lyawqmVBMJZ"
   },
   "source": [
    "#### i. What is the distribution of loan quantum given out by the bank?\n",
    "\n",
    "\tHints:\n",
    "You can use a bar chart or histogram to plot the distribution\n"
   ]
  },
  {
   "cell_type": "code",
   "execution_count": null,
   "metadata": {
    "id": "lP-I3yX1BMJZ"
   },
   "outputs": [],
   "source": [
    "#Your Code Here"
   ]
  },
  {
   "cell_type": "markdown",
   "metadata": {
    "id": "teYWNCIRBMJZ"
   },
   "source": [
    "#### ii. What is the relation between loan quantum and average salary?\n",
    "\n",
    "\tHint:\n",
    "You can utilize a scatter plot to plot the relationship. Make sure both variables are of the correct type.\n"
   ]
  },
  {
   "cell_type": "code",
   "execution_count": null,
   "metadata": {
    "id": "Xf5bISmaBMJZ"
   },
   "outputs": [],
   "source": [
    "#Your Code Here"
   ]
  },
  {
   "cell_type": "markdown",
   "metadata": {
    "id": "W9MIlzTCBMJZ"
   },
   "source": [
    "#### iii. Examine the relationship between the number of loans in arrears and the unemployment rate at the time.\n",
    "\n",
    "\tHints:\n",
    "\n",
    "\t1.\tHint 1:\n",
    "Filter the loan table for loans in arrears (e.g., status ‘B’ for overdue).\n",
    "\n",
    "\t•\tTip: Use .loc[] to filter by loan status\n",
    "\t2.\tHint 2:\n",
    "Merge the loan table with the district table to get the unemployment rate by district.\n",
    "\n",
    "\t•\tTip: Use pd.merge() on district_id.\n",
    "\t3.\tHint 3:\n",
    "Compare the number of loans in arrears per district with the unemployment rate using a scatter plot.\n",
    "\n",
    "\t•\tTip: Use sns.scatterplot() to visualize the relationship."
   ]
  },
  {
   "cell_type": "code",
   "execution_count": null,
   "metadata": {
    "id": "wDGTQi0gBMJZ"
   },
   "outputs": [],
   "source": [
    "#Your Code Here"
   ]
  },
  {
   "cell_type": "markdown",
   "metadata": {
    "id": "7r9bTnMNBMJZ"
   },
   "source": [
    "#### iv. In the loan DataFrame, check for outliers in the amount column.\n",
    "#### Remove or treat the outliers based on the interquartile range (IQR) method (outliers are values that are 1.5 times the IQR above the third quartile or below the first quartile).\n",
    "\n",
    "\t•\tHint: Use .quantile() to calculate the IQR and .loc[] to filter outliers."
   ]
  },
  {
   "cell_type": "code",
   "execution_count": null,
   "metadata": {
    "id": "rHOjbc8FBMJZ"
   },
   "outputs": [],
   "source": [
    "#Your Code Here"
   ]
  },
  {
   "cell_type": "markdown",
   "metadata": {
    "id": "q3QRcMp2BMJZ"
   },
   "source": [
    "### d. Transactions"
   ]
  },
  {
   "cell_type": "markdown",
   "metadata": {
    "id": "tpsHdrA0BMJZ"
   },
   "source": [
    "#### i. Which region has the lowest average number of transactions?"
   ]
  },
  {
   "cell_type": "code",
   "execution_count": null,
   "metadata": {
    "id": "adNXrk0uBMJZ"
   },
   "outputs": [],
   "source": [
    "#Your Code Here"
   ]
  },
  {
   "cell_type": "markdown",
   "metadata": {
    "id": "C7agSy9TBMJZ"
   },
   "source": [
    "#### ii. What is the breakdown of the various transaction types?\n",
    "\n",
    "\tHint: Use a bar chart to show the distribution of different transaction types (e.g., k_symbol).\n",
    "\t•\tTip: Use sns.countplot() to create a bar plot showing the frequency of each transaction type."
   ]
  },
  {
   "cell_type": "code",
   "execution_count": null,
   "metadata": {
    "id": "napS-gAGBMJa"
   },
   "outputs": [],
   "source": [
    "#Your Code Here"
   ]
  },
  {
   "cell_type": "markdown",
   "metadata": {
    "id": "oTgV2Xu5BMJa"
   },
   "source": [
    "#### iii. What are the top 5 accounts with the highest total transaction amounts?\n",
    "\tHint:\n",
    "Group the transactions by account_id, calculate the total amount for each account, and visualize the top 5 accounts using a bar plot.\n",
    "\n",
    "\t•\tTip: Use groupby() to calculate the total amounts and sns.barplot() for visualization."
   ]
  },
  {
   "cell_type": "code",
   "execution_count": null,
   "metadata": {
    "id": "Mvy4GlZFBMJa"
   },
   "outputs": [],
   "source": [
    "#Your Code Here"
   ]
  },
  {
   "cell_type": "markdown",
   "metadata": {
    "id": "iH-AqrNwBMJa"
   },
   "source": [
    "## 3- (Merging- Data Cleaning)\n",
    "### Merge the entire Data , keeping in mind that all observations in the loan table are important as these are the people who applied for loans"
   ]
  },
  {
   "cell_type": "code",
   "execution_count": null,
   "metadata": {
    "id": "8qlkjBD9BMJa"
   },
   "outputs": [],
   "source": [
    "#Your Code Here"
   ]
  },
  {
   "cell_type": "markdown",
   "metadata": {
    "id": "f6oGfZ1FBMJa"
   },
   "source": [
    "#### i. Preprocess the data and handle any missing values after merging"
   ]
  },
  {
   "cell_type": "code",
   "execution_count": null,
   "metadata": {
    "id": "hzDWCRYTBMJa"
   },
   "outputs": [],
   "source": [
    "#Your Code Here"
   ]
  },
  {
   "cell_type": "markdown",
   "metadata": {
    "id": "kbPhuWXNBMJa"
   },
   "source": [
    "#### ii. (Optional) Check for the outliers and anomalies"
   ]
  },
  {
   "cell_type": "code",
   "execution_count": null,
   "metadata": {
    "id": "c1uM7PeFBMJa"
   },
   "outputs": [],
   "source": [
    "#Your Code Here"
   ]
  },
  {
   "cell_type": "markdown",
   "metadata": {
    "id": "MZoTxKIBBMJa"
   },
   "source": [
    "#### iii. (Optional) Check the variables A15 and A16 in the district table, do you see any unsual thing?"
   ]
  },
  {
   "cell_type": "code",
   "execution_count": null,
   "metadata": {
    "id": "flMOIvMEBMJa"
   },
   "outputs": [],
   "source": [
    "#Your Code Here"
   ]
  },
  {
   "cell_type": "markdown",
   "metadata": {
    "id": "cTNbeHl1BMJa"
   },
   "source": [
    "#### iv. (Optional) Convert all polish column names to english according to the data dictionary. For example, change 'POPLATEK MESICNE' to 'MONTHLY'.\n",
    "Hint:\n",
    "- Use SQL CASE statement in Pandas SQL"
   ]
  },
  {
   "cell_type": "code",
   "execution_count": null,
   "metadata": {
    "id": "e1qkjYBGBMJa"
   },
   "outputs": [],
   "source": [
    "#Your Code Here"
   ]
  },
  {
   "cell_type": "markdown",
   "metadata": {
    "id": "p54QzvJPBMJa"
   },
   "source": [
    "#### v. (Optional) Handle Transaction Table as a single user may have multiple transactions, Try to create high level feature."
   ]
  },
  {
   "cell_type": "code",
   "execution_count": null,
   "metadata": {
    "id": "g3dB9o0uBMJb"
   },
   "outputs": [],
   "source": [
    "#Your Code Here"
   ]
  },
  {
   "cell_type": "markdown",
   "metadata": {
    "id": "8tQ06o2HBMJb"
   },
   "source": [
    "# PART 3: Machine Learning\n",
    "\n",
    "In this section, you will prepare the dataset for machine learning and implement either supervised or unsupervised learning.\n",
    "\n",
    "---"
   ]
  },
  {
   "cell_type": "markdown",
   "metadata": {
    "id": "ValdrKPNBMJb"
   },
   "source": [
    "## Step 1: Data Preparation\n",
    "\n",
    "### 1.1 Handle Missing Values\n",
    "- Check the dataset for missing values.\n",
    "- If any are found, explain how you handle them (e.g., filling with median or dropping rows).\n",
    "- Implement your solution for missing values.\n"
   ]
  },
  {
   "cell_type": "code",
   "execution_count": 1,
   "metadata": {},
   "outputs": [],
   "source": [
    "%matplotlib inline\n",
    "import numpy as np\n",
    "import pandas as pd\n",
    "import seaborn as sns\n",
    "import matplotlib.pyplot as plt\n",
    "\n",
    "\n",
    "from sklearn.cluster import KMeans\n",
    "from sklearn.preprocessing import MinMaxScaler\n",
    "from matplotlib import pyplot as plt\n",
    "from sklearn.preprocessing import StandardScaler\n",
    "from sklearn.cluster import DBSCAN\n",
    "from sklearn.datasets import load_digits\n",
    "from sklearn.metrics import davies_bouldin_score"
   ]
  },
  {
   "cell_type": "code",
   "execution_count": 2,
   "metadata": {
    "id": "u219_pbeBMJb"
   },
   "outputs": [
    {
     "name": "stderr",
     "output_type": "stream",
     "text": [
      "C:\\Users\\USER\\AppData\\Local\\Temp\\ipykernel_13152\\1320423392.py:2: DtypeWarning: Columns (22) have mixed types. Specify dtype option on import or set low_memory=False.\n",
      "  dataset = pd.read_csv(\"merged_data.csv\")\n"
     ]
    },
    {
     "data": {
      "text/html": [
       "<div>\n",
       "<style scoped>\n",
       "    .dataframe tbody tr th:only-of-type {\n",
       "        vertical-align: middle;\n",
       "    }\n",
       "\n",
       "    .dataframe tbody tr th {\n",
       "        vertical-align: top;\n",
       "    }\n",
       "\n",
       "    .dataframe thead th {\n",
       "        text-align: right;\n",
       "    }\n",
       "</style>\n",
       "<table border=\"1\" class=\"dataframe\">\n",
       "  <thead>\n",
       "    <tr style=\"text-align: right;\">\n",
       "      <th></th>\n",
       "      <th>loan_id</th>\n",
       "      <th>account_id</th>\n",
       "      <th>date_x</th>\n",
       "      <th>amount_x</th>\n",
       "      <th>duration</th>\n",
       "      <th>payments</th>\n",
       "      <th>status</th>\n",
       "      <th>district_id</th>\n",
       "      <th>frequency</th>\n",
       "      <th>date_y</th>\n",
       "      <th>...</th>\n",
       "      <th>type</th>\n",
       "      <th>operation</th>\n",
       "      <th>amount_y</th>\n",
       "      <th>balance</th>\n",
       "      <th>k_symbol</th>\n",
       "      <th>bank</th>\n",
       "      <th>account</th>\n",
       "      <th>A1</th>\n",
       "      <th>A3</th>\n",
       "      <th>A12</th>\n",
       "    </tr>\n",
       "  </thead>\n",
       "  <tbody>\n",
       "    <tr>\n",
       "      <th>0</th>\n",
       "      <td>5314</td>\n",
       "      <td>1787</td>\n",
       "      <td>930705</td>\n",
       "      <td>96396</td>\n",
       "      <td>12</td>\n",
       "      <td>8033.0</td>\n",
       "      <td>B</td>\n",
       "      <td>30</td>\n",
       "      <td>POPLATEK TYDNE</td>\n",
       "      <td>1993-03-22</td>\n",
       "      <td>...</td>\n",
       "      <td>PRIJEM</td>\n",
       "      <td>VKLAD</td>\n",
       "      <td>1100.0</td>\n",
       "      <td>1100.0</td>\n",
       "      <td>NaN</td>\n",
       "      <td>NaN</td>\n",
       "      <td>NaN</td>\n",
       "      <td>30</td>\n",
       "      <td>west Bohemia</td>\n",
       "      <td>3.38</td>\n",
       "    </tr>\n",
       "    <tr>\n",
       "      <th>1</th>\n",
       "      <td>5314</td>\n",
       "      <td>1787</td>\n",
       "      <td>930705</td>\n",
       "      <td>96396</td>\n",
       "      <td>12</td>\n",
       "      <td>8033.0</td>\n",
       "      <td>B</td>\n",
       "      <td>30</td>\n",
       "      <td>POPLATEK TYDNE</td>\n",
       "      <td>1993-03-22</td>\n",
       "      <td>...</td>\n",
       "      <td>PRIJEM</td>\n",
       "      <td>VKLAD</td>\n",
       "      <td>9900.0</td>\n",
       "      <td>11000.0</td>\n",
       "      <td>NaN</td>\n",
       "      <td>NaN</td>\n",
       "      <td>NaN</td>\n",
       "      <td>30</td>\n",
       "      <td>west Bohemia</td>\n",
       "      <td>3.38</td>\n",
       "    </tr>\n",
       "    <tr>\n",
       "      <th>2</th>\n",
       "      <td>5314</td>\n",
       "      <td>1787</td>\n",
       "      <td>930705</td>\n",
       "      <td>96396</td>\n",
       "      <td>12</td>\n",
       "      <td>8033.0</td>\n",
       "      <td>B</td>\n",
       "      <td>30</td>\n",
       "      <td>POPLATEK TYDNE</td>\n",
       "      <td>1993-03-22</td>\n",
       "      <td>...</td>\n",
       "      <td>PRIJEM</td>\n",
       "      <td>VKLAD</td>\n",
       "      <td>5800.0</td>\n",
       "      <td>16800.0</td>\n",
       "      <td>NaN</td>\n",
       "      <td>NaN</td>\n",
       "      <td>NaN</td>\n",
       "      <td>30</td>\n",
       "      <td>west Bohemia</td>\n",
       "      <td>3.38</td>\n",
       "    </tr>\n",
       "    <tr>\n",
       "      <th>3</th>\n",
       "      <td>5314</td>\n",
       "      <td>1787</td>\n",
       "      <td>930705</td>\n",
       "      <td>96396</td>\n",
       "      <td>12</td>\n",
       "      <td>8033.0</td>\n",
       "      <td>B</td>\n",
       "      <td>30</td>\n",
       "      <td>POPLATEK TYDNE</td>\n",
       "      <td>1993-03-22</td>\n",
       "      <td>...</td>\n",
       "      <td>PRIJEM</td>\n",
       "      <td>VKLAD</td>\n",
       "      <td>3300.0</td>\n",
       "      <td>20100.0</td>\n",
       "      <td>NaN</td>\n",
       "      <td>NaN</td>\n",
       "      <td>NaN</td>\n",
       "      <td>30</td>\n",
       "      <td>west Bohemia</td>\n",
       "      <td>3.38</td>\n",
       "    </tr>\n",
       "    <tr>\n",
       "      <th>4</th>\n",
       "      <td>5314</td>\n",
       "      <td>1787</td>\n",
       "      <td>930705</td>\n",
       "      <td>96396</td>\n",
       "      <td>12</td>\n",
       "      <td>8033.0</td>\n",
       "      <td>B</td>\n",
       "      <td>30</td>\n",
       "      <td>POPLATEK TYDNE</td>\n",
       "      <td>1993-03-22</td>\n",
       "      <td>...</td>\n",
       "      <td>PRIJEM</td>\n",
       "      <td>VKLAD</td>\n",
       "      <td>42248.0</td>\n",
       "      <td>62348.0</td>\n",
       "      <td>NaN</td>\n",
       "      <td>NaN</td>\n",
       "      <td>NaN</td>\n",
       "      <td>30</td>\n",
       "      <td>west Bohemia</td>\n",
       "      <td>3.38</td>\n",
       "    </tr>\n",
       "  </tbody>\n",
       "</table>\n",
       "<p>5 rows × 23 columns</p>\n",
       "</div>"
      ],
      "text/plain": [
       "   loan_id  account_id  date_x  amount_x  duration  payments status  \\\n",
       "0     5314        1787  930705     96396        12    8033.0      B   \n",
       "1     5314        1787  930705     96396        12    8033.0      B   \n",
       "2     5314        1787  930705     96396        12    8033.0      B   \n",
       "3     5314        1787  930705     96396        12    8033.0      B   \n",
       "4     5314        1787  930705     96396        12    8033.0      B   \n",
       "\n",
       "   district_id       frequency      date_y  ...    type  operation  amount_y  \\\n",
       "0           30  POPLATEK TYDNE  1993-03-22  ...  PRIJEM      VKLAD    1100.0   \n",
       "1           30  POPLATEK TYDNE  1993-03-22  ...  PRIJEM      VKLAD    9900.0   \n",
       "2           30  POPLATEK TYDNE  1993-03-22  ...  PRIJEM      VKLAD    5800.0   \n",
       "3           30  POPLATEK TYDNE  1993-03-22  ...  PRIJEM      VKLAD    3300.0   \n",
       "4           30  POPLATEK TYDNE  1993-03-22  ...  PRIJEM      VKLAD   42248.0   \n",
       "\n",
       "   balance k_symbol  bank  account  A1            A3   A12  \n",
       "0   1100.0      NaN   NaN      NaN  30  west Bohemia  3.38  \n",
       "1  11000.0      NaN   NaN      NaN  30  west Bohemia  3.38  \n",
       "2  16800.0      NaN   NaN      NaN  30  west Bohemia  3.38  \n",
       "3  20100.0      NaN   NaN      NaN  30  west Bohemia  3.38  \n",
       "4  62348.0      NaN   NaN      NaN  30  west Bohemia  3.38  \n",
       "\n",
       "[5 rows x 23 columns]"
      ]
     },
     "execution_count": 2,
     "metadata": {},
     "output_type": "execute_result"
    }
   ],
   "source": [
    "# Your Code Here\n",
    "dataset = pd.read_csv(\"merged_data.csv\")\n",
    "dataset.head()"
   ]
  },
  {
   "cell_type": "code",
   "execution_count": 3,
   "metadata": {},
   "outputs": [
    {
     "data": {
      "text/plain": [
       "loan_id          int64\n",
       "account_id       int64\n",
       "date_x           int64\n",
       "amount_x         int64\n",
       "duration         int64\n",
       "payments       float64\n",
       "status          object\n",
       "district_id      int64\n",
       "frequency       object\n",
       "date_y          object\n",
       "year_month      object\n",
       "trans_id         int64\n",
       "date             int64\n",
       "type            object\n",
       "operation       object\n",
       "amount_y       float64\n",
       "balance        float64\n",
       "k_symbol        object\n",
       "bank            object\n",
       "account        float64\n",
       "A1               int64\n",
       "A3              object\n",
       "A12             object\n",
       "dtype: object"
      ]
     },
     "execution_count": 3,
     "metadata": {},
     "output_type": "execute_result"
    }
   ],
   "source": [
    "dataset.dtypes"
   ]
  },
  {
   "cell_type": "code",
   "execution_count": 4,
   "metadata": {},
   "outputs": [
    {
     "name": "stdout",
     "output_type": "stream",
     "text": [
      "<class 'pandas.core.frame.DataFrame'>\n",
      "RangeIndex: 191556 entries, 0 to 191555\n",
      "Data columns (total 23 columns):\n",
      " #   Column       Non-Null Count   Dtype  \n",
      "---  ------       --------------   -----  \n",
      " 0   loan_id      191556 non-null  int64  \n",
      " 1   account_id   191556 non-null  int64  \n",
      " 2   date_x       191556 non-null  int64  \n",
      " 3   amount_x     191556 non-null  int64  \n",
      " 4   duration     191556 non-null  int64  \n",
      " 5   payments     191556 non-null  float64\n",
      " 6   status       191556 non-null  object \n",
      " 7   district_id  191556 non-null  int64  \n",
      " 8   frequency    191556 non-null  object \n",
      " 9   date_y       191556 non-null  object \n",
      " 10  year_month   191556 non-null  object \n",
      " 11  trans_id     191556 non-null  int64  \n",
      " 12  date         191556 non-null  int64  \n",
      " 13  type         191556 non-null  object \n",
      " 14  operation    160218 non-null  object \n",
      " 15  amount_y     191556 non-null  float64\n",
      " 16  balance      191556 non-null  float64\n",
      " 17  k_symbol     99109 non-null   object \n",
      " 18  bank         50513 non-null   object \n",
      " 19  account      62625 non-null   float64\n",
      " 20  A1           191556 non-null  int64  \n",
      " 21  A3           191556 non-null  object \n",
      " 22  A12          191556 non-null  object \n",
      "dtypes: float64(4), int64(9), object(10)\n",
      "memory usage: 33.6+ MB\n"
     ]
    }
   ],
   "source": [
    "dataset.info()"
   ]
  },
  {
   "cell_type": "code",
   "execution_count": 5,
   "metadata": {},
   "outputs": [
    {
     "data": {
      "text/plain": [
       "loan_id             0\n",
       "account_id          0\n",
       "date_x              0\n",
       "amount_x            0\n",
       "duration            0\n",
       "payments            0\n",
       "status              0\n",
       "district_id         0\n",
       "frequency           0\n",
       "date_y              0\n",
       "year_month          0\n",
       "trans_id            0\n",
       "date                0\n",
       "type                0\n",
       "operation       31338\n",
       "amount_y            0\n",
       "balance             0\n",
       "k_symbol        92447\n",
       "bank           141043\n",
       "account        128931\n",
       "A1                  0\n",
       "A3                  0\n",
       "A12                 0\n",
       "dtype: int64"
      ]
     },
     "execution_count": 5,
     "metadata": {},
     "output_type": "execute_result"
    }
   ],
   "source": [
    "dataset.isnull().sum()"
   ]
  },
  {
   "cell_type": "code",
   "execution_count": 6,
   "metadata": {},
   "outputs": [
    {
     "data": {
      "text/plain": [
       "40253865.346986026"
      ]
     },
     "execution_count": 6,
     "metadata": {},
     "output_type": "execute_result"
    }
   ],
   "source": [
    "account_mean = dataset['account'].mean()\n",
    "account_mean"
   ]
  },
  {
   "cell_type": "code",
   "execution_count": 9,
   "metadata": {},
   "outputs": [],
   "source": [
    "dataset['account'] = dataset['account'].replace(np.nan,account_mean)"
   ]
  },
  {
   "cell_type": "code",
   "execution_count": null,
   "metadata": {},
   "outputs": [],
   "source": [
    "#drop object"
   ]
  },
  {
   "cell_type": "code",
   "execution_count": 10,
   "metadata": {},
   "outputs": [],
   "source": [
    "dataset = dataset.drop(columns=['frequency','date_y','year_month','A3','A12'])\n"
   ]
  },
  {
   "cell_type": "code",
   "execution_count": 11,
   "metadata": {},
   "outputs": [],
   "source": [
    "dataset = dataset.drop(columns=['operation'])"
   ]
  },
  {
   "cell_type": "code",
   "execution_count": 12,
   "metadata": {},
   "outputs": [],
   "source": [
    "dataset = dataset.drop(columns=['status'])"
   ]
  },
  {
   "cell_type": "code",
   "execution_count": 13,
   "metadata": {},
   "outputs": [],
   "source": [
    "dataset = dataset.drop(columns=['k_symbol'])"
   ]
  },
  {
   "cell_type": "code",
   "execution_count": 14,
   "metadata": {},
   "outputs": [],
   "source": [
    "dataset = dataset.drop(columns=['bank'])"
   ]
  },
  {
   "cell_type": "code",
   "execution_count": 15,
   "metadata": {},
   "outputs": [],
   "source": [
    "dataset = dataset.drop(columns=['type'])"
   ]
  },
  {
   "cell_type": "code",
   "execution_count": null,
   "metadata": {},
   "outputs": [],
   "source": [
    "#to check column that already drop"
   ]
  },
  {
   "cell_type": "code",
   "execution_count": 16,
   "metadata": {},
   "outputs": [
    {
     "data": {
      "text/plain": [
       "loan_id        0\n",
       "account_id     0\n",
       "date_x         0\n",
       "amount_x       0\n",
       "duration       0\n",
       "payments       0\n",
       "district_id    0\n",
       "trans_id       0\n",
       "date           0\n",
       "amount_y       0\n",
       "balance        0\n",
       "account        0\n",
       "A1             0\n",
       "dtype: int64"
      ]
     },
     "execution_count": 16,
     "metadata": {},
     "output_type": "execute_result"
    }
   ],
   "source": [
    "dataset.isnull().sum()"
   ]
  },
  {
   "cell_type": "code",
   "execution_count": 17,
   "metadata": {},
   "outputs": [
    {
     "data": {
      "text/html": [
       "<div>\n",
       "<style scoped>\n",
       "    .dataframe tbody tr th:only-of-type {\n",
       "        vertical-align: middle;\n",
       "    }\n",
       "\n",
       "    .dataframe tbody tr th {\n",
       "        vertical-align: top;\n",
       "    }\n",
       "\n",
       "    .dataframe thead th {\n",
       "        text-align: right;\n",
       "    }\n",
       "</style>\n",
       "<table border=\"1\" class=\"dataframe\">\n",
       "  <thead>\n",
       "    <tr style=\"text-align: right;\">\n",
       "      <th></th>\n",
       "      <th>loan_id</th>\n",
       "      <th>account_id</th>\n",
       "      <th>date_x</th>\n",
       "      <th>amount_x</th>\n",
       "      <th>duration</th>\n",
       "      <th>payments</th>\n",
       "      <th>district_id</th>\n",
       "      <th>trans_id</th>\n",
       "      <th>date</th>\n",
       "      <th>amount_y</th>\n",
       "      <th>balance</th>\n",
       "      <th>account</th>\n",
       "      <th>A1</th>\n",
       "    </tr>\n",
       "  </thead>\n",
       "  <tbody>\n",
       "    <tr>\n",
       "      <th>0</th>\n",
       "      <td>5314</td>\n",
       "      <td>1787</td>\n",
       "      <td>930705</td>\n",
       "      <td>96396</td>\n",
       "      <td>12</td>\n",
       "      <td>8033.0</td>\n",
       "      <td>30</td>\n",
       "      <td>523621</td>\n",
       "      <td>930322</td>\n",
       "      <td>1100.0</td>\n",
       "      <td>1100.0</td>\n",
       "      <td>4.025387e+07</td>\n",
       "      <td>30</td>\n",
       "    </tr>\n",
       "    <tr>\n",
       "      <th>1</th>\n",
       "      <td>5314</td>\n",
       "      <td>1787</td>\n",
       "      <td>930705</td>\n",
       "      <td>96396</td>\n",
       "      <td>12</td>\n",
       "      <td>8033.0</td>\n",
       "      <td>30</td>\n",
       "      <td>524054</td>\n",
       "      <td>930421</td>\n",
       "      <td>9900.0</td>\n",
       "      <td>11000.0</td>\n",
       "      <td>4.025387e+07</td>\n",
       "      <td>30</td>\n",
       "    </tr>\n",
       "    <tr>\n",
       "      <th>2</th>\n",
       "      <td>5314</td>\n",
       "      <td>1787</td>\n",
       "      <td>930705</td>\n",
       "      <td>96396</td>\n",
       "      <td>12</td>\n",
       "      <td>8033.0</td>\n",
       "      <td>30</td>\n",
       "      <td>524055</td>\n",
       "      <td>930521</td>\n",
       "      <td>5800.0</td>\n",
       "      <td>16800.0</td>\n",
       "      <td>4.025387e+07</td>\n",
       "      <td>30</td>\n",
       "    </tr>\n",
       "    <tr>\n",
       "      <th>3</th>\n",
       "      <td>5314</td>\n",
       "      <td>1787</td>\n",
       "      <td>930705</td>\n",
       "      <td>96396</td>\n",
       "      <td>12</td>\n",
       "      <td>8033.0</td>\n",
       "      <td>30</td>\n",
       "      <td>524056</td>\n",
       "      <td>930620</td>\n",
       "      <td>3300.0</td>\n",
       "      <td>20100.0</td>\n",
       "      <td>4.025387e+07</td>\n",
       "      <td>30</td>\n",
       "    </tr>\n",
       "    <tr>\n",
       "      <th>4</th>\n",
       "      <td>5314</td>\n",
       "      <td>1787</td>\n",
       "      <td>930705</td>\n",
       "      <td>96396</td>\n",
       "      <td>12</td>\n",
       "      <td>8033.0</td>\n",
       "      <td>30</td>\n",
       "      <td>523624</td>\n",
       "      <td>930708</td>\n",
       "      <td>42248.0</td>\n",
       "      <td>62348.0</td>\n",
       "      <td>4.025387e+07</td>\n",
       "      <td>30</td>\n",
       "    </tr>\n",
       "  </tbody>\n",
       "</table>\n",
       "</div>"
      ],
      "text/plain": [
       "   loan_id  account_id  date_x  amount_x  duration  payments  district_id  \\\n",
       "0     5314        1787  930705     96396        12    8033.0           30   \n",
       "1     5314        1787  930705     96396        12    8033.0           30   \n",
       "2     5314        1787  930705     96396        12    8033.0           30   \n",
       "3     5314        1787  930705     96396        12    8033.0           30   \n",
       "4     5314        1787  930705     96396        12    8033.0           30   \n",
       "\n",
       "   trans_id    date  amount_y  balance       account  A1  \n",
       "0    523621  930322    1100.0   1100.0  4.025387e+07  30  \n",
       "1    524054  930421    9900.0  11000.0  4.025387e+07  30  \n",
       "2    524055  930521    5800.0  16800.0  4.025387e+07  30  \n",
       "3    524056  930620    3300.0  20100.0  4.025387e+07  30  \n",
       "4    523624  930708   42248.0  62348.0  4.025387e+07  30  "
      ]
     },
     "execution_count": 17,
     "metadata": {},
     "output_type": "execute_result"
    }
   ],
   "source": [
    "dataset.head()"
   ]
  },
  {
   "cell_type": "markdown",
   "metadata": {
    "id": "UL4YMpsFBMJb"
   },
   "source": [
    "\n",
    "### 1.2 Normalize the Variables\n",
    "- Normalize all numerical variables using one of the following techniques:\n",
    "  - MinMaxScaler\n",
    "  - StandardScaler\n",
    "- Explain why normalization is essential for machine learning."
   ]
  },
  {
   "cell_type": "code",
   "execution_count": 25,
   "metadata": {
    "id": "7wFd2V34BMJb"
   },
   "outputs": [
    {
     "name": "stdout",
     "output_type": "stream",
     "text": [
      "         balance  payments  amount_y  amount_x\n",
      "0      -1.698555  1.746229 -0.608421 -0.454576\n",
      "1      -1.600428  1.746229  0.137621 -0.454576\n",
      "2      -1.425393  1.746229 -0.209967 -0.454576\n",
      "3      -1.276679  1.746229 -0.421910 -0.454576\n",
      "4       0.953601  1.746229  2.880003 -0.454576\n",
      "...          ...       ...       ...       ...\n",
      "191551 -1.464905 -0.071730 -0.361295  0.854370\n",
      "191552 -0.002900 -0.071730  1.451163  0.854370\n",
      "191553 -0.232774 -0.071730 -0.376131  0.854370\n",
      "191554 -0.217198 -0.071730 -0.690850  0.854370\n",
      "191555 -0.225100 -0.071730 -0.690443  0.854370\n",
      "\n",
      "[191556 rows x 4 columns]\n"
     ]
    }
   ],
   "source": [
    "from sklearn.preprocessing import StandardScaler\n",
    "\n",
    "\n",
    "features = dataset[['balance', 'payments', 'amount_y', 'amount_x']]\n",
    "\n",
    "# Initialize the scaler\n",
    "scaler = StandardScaler()\n",
    "\n",
    "# Standardize the features\n",
    "scaled_features = scaler.fit_transform(features)\n",
    "\n",
    "# Convert back to DataFrame for easier handling\n",
    "scaled_data = pd.DataFrame(scaled_features, columns=features.columns)\n",
    "\n",
    "# Display the standardized DataFrame\n",
    "print(scaled_data)\n"
   ]
  },
  {
   "cell_type": "code",
   "execution_count": null,
   "metadata": {},
   "outputs": [],
   "source": [
    "#Normalization is essential in machine learning because it ensures that features are on a comparable scale, which can significantly improve the performance and stability of algorithms. "
   ]
  },
  {
   "cell_type": "markdown",
   "metadata": {
    "id": "ZcNIYoOYBMJb"
   },
   "source": [
    "### 1.3 Encode Categorical Variables\n",
    "- Convert categorical variables into numerical values using one of the following:\n",
    "  - One-hot encoding\n",
    "  - Label encoding\n",
    "- Justify your choice of encoding method."
   ]
  },
  {
   "cell_type": "code",
   "execution_count": 19,
   "metadata": {},
   "outputs": [
    {
     "name": "stdout",
     "output_type": "stream",
     "text": [
      "        loan_id  account_id  date_x  amount_x  duration  payments  \\\n",
      "0          5314        1787  930705     96396        12    8033.0   \n",
      "1          5314        1787  930705     96396        12    8033.0   \n",
      "2          5314        1787  930705     96396        12    8033.0   \n",
      "3          5314        1787  930705     96396        12    8033.0   \n",
      "4          5314        1787  930705     96396        12    8033.0   \n",
      "...         ...         ...     ...       ...       ...       ...   \n",
      "191551     6748        8645  981208    240900        60    4015.0   \n",
      "191552     6748        8645  981208    240900        60    4015.0   \n",
      "191553     6748        8645  981208    240900        60    4015.0   \n",
      "191554     6748        8645  981208    240900        60    4015.0   \n",
      "191555     6748        8645  981208    240900        60    4015.0   \n",
      "\n",
      "        district_id  trans_id    date  amount_y  balance       account  A1  \n",
      "0                30    523621  930322    1100.0     1285  4.025387e+07  30  \n",
      "1                30    524054  930421    9900.0     6016  4.025387e+07  30  \n",
      "2                30    524055  930521    5800.0    14455  4.025387e+07  30  \n",
      "3                30    524056  930620    3300.0    21625  4.025387e+07  30  \n",
      "4                30    523624  930708   42248.0   129154  4.025387e+07  30  \n",
      "...             ...       ...     ...       ...      ...           ...  ..  \n",
      "191551           60   2616325  981212    4015.0    12550  5.050075e+07  60  \n",
      "191552           60   2616277  981214   25394.0    83038  4.025387e+07  60  \n",
      "191553           60   2616331  981215    3840.0    71955  4.025387e+07  60  \n",
      "191554           60   3502675  981231     127.7    72706  4.025387e+07  60  \n",
      "191555           60   3476399  981231     132.5    72325  4.025387e+07  60  \n",
      "\n",
      "[191556 rows x 13 columns]\n"
     ]
    }
   ],
   "source": [
    "from sklearn.preprocessing import LabelEncoder\n",
    "\n",
    "\n",
    "# Label encoding\n",
    "label_encoder = LabelEncoder()\n",
    "dataset['balance'] = label_encoder.fit_transform(dataset['balance'])\n",
    "print(dataset)\n"
   ]
  },
  {
   "cell_type": "code",
   "execution_count": null,
   "metadata": {
    "id": "TPw4YGCfBMJb"
   },
   "outputs": [],
   "source": [
    "\n",
    "#Label encoding to use when the categorical variable is ordinal (has a meaningful order).\n",
    "#Example: Size (Small < Medium < Large).\n",
    "#Memory efficient, as it requires only one column.\n",
    "#Use label encoding for ordinal variables like Size to preserve the meaningful order."
   ]
  },
  {
   "cell_type": "markdown",
   "metadata": {
    "id": "b-G_pmj4BMJb"
   },
   "source": [
    "### 1.4 Split the Data\n",
    "- For supervised learning:\n",
    "  - Separate the data into features (`X`) and the target variable (`y`).\n",
    "  - Perform a train-test split (e.g., 80% for training, 20% for testing).\n",
    "- For unsupervised learning:\n",
    "  - Use all features for clustering (no target variable needed).\n",
    "\n",
    "---"
   ]
  },
  {
   "cell_type": "code",
   "execution_count": 20,
   "metadata": {},
   "outputs": [],
   "source": [
    "features = dataset[['loan_id','account_id' , 'date_x','amount_x', 'duration','payments','district_id','trans_id','date','amount_y','balance','account','A1']]\n",
    "#Standardize the features:\n",
    "scaler = StandardScaler()\n",
    "scaled_features = scaler.fit_transform(features)\n"
   ]
  },
  {
   "cell_type": "markdown",
   "metadata": {
    "id": "wTu2T7VjBMJb",
    "jp-MarkdownHeadingCollapsed": true
   },
   "source": [
    "## Step 2: Option 1: Supervised Learning (Loan Default Detection)\n",
    "\n",
    "### 2.1.1 Train Two Models\n",
    "- Train two supervised learning models. You may choose from:\n",
    "  - Logistic Regression\n",
    "  - Decision Tree\n",
    "  - Random Forest\n",
    "  - Neural Network\n",
    "- Use appropriate hyperparameters or defaults for simplicity.\n",
    "### Hint\n",
    "\n",
    "- You may use the **loan status column** as the target variable.\n",
    "- Convert the loan status into a **binary variable**:\n",
    "  - If the loan status is `A` or `C`, label it as **Non-Defaulter** (0).\n",
    "  - If the loan status is `B` or `D`, label it as **Defaulter** (1).\n",
    "- You can achieve this using a mapping dictionary in pandas, such as:\n",
    "\n",
    "```python\n",
    "# Example code snippet for converting loan status\n",
    "loan_status_mapping = {'A': 0, 'C': 0, 'B': 1, 'D': 1}\n",
    "df['loan_status_binary'] = df['loan_status'].map(loan_status_mapping)\n"
   ]
  },
  {
   "cell_type": "markdown",
   "metadata": {
    "id": "WrQk06l3BMJc"
   },
   "source": [
    "### 2.1.2 Evaluate the Models\n",
    "- Evaluate each model using the following metrics:\n",
    "  - Accuracy\n",
    "  - Precision\n",
    "  - Recall\n",
    "  - F1-Score\n",
    "  - ROC-AUC (if applicable)\n",
    "\n"
   ]
  },
  {
   "cell_type": "markdown",
   "metadata": {
    "id": "gcsm4pEDBMJc"
   },
   "source": [
    "### 2.1.3 Plot a Confusion Matrix\n",
    "- Plot a confusion matrix for the best-performing model.\n",
    "- Interpret the results (e.g., which types of errors are most common?).\n",
    "\n"
   ]
  },
  {
   "cell_type": "markdown",
   "metadata": {
    "id": "pugi66R0BMJc"
   },
   "source": [
    "\n",
    "### 2.1.4 Compare the Models\n",
    "- Compare the performance of the two models.\n",
    "- Explain which model performs better and why."
   ]
  },
  {
   "cell_type": "code",
   "execution_count": null,
   "metadata": {
    "id": "EgN16NvHBMJc"
   },
   "outputs": [],
   "source": [
    "# Your Code Here\n"
   ]
  },
  {
   "cell_type": "markdown",
   "metadata": {
    "id": "QQeR7x9PBMJc"
   },
   "source": [
    "## Step 2: Option 2: Unsupervised Learning (Client Clustering)\n",
    "\n",
    "### 2.2.1 Determine the Optimal Number of Clusters\n",
    "- Use the **Elbow Method** to find the optimal number of clusters.\n",
    "- Plot the within-cluster sum of squares (WCSS) for cluster counts from 1 to 10.\n",
    "- Decide on the optimal number of clusters based on the plot."
   ]
  },
  {
   "cell_type": "code",
   "execution_count": 21,
   "metadata": {
    "id": "OU1hU-klBMJc"
   },
   "outputs": [
    {
     "data": {
      "image/png": "[encoded data removed]",
      "text/plain": [
       "<Figure size 1000x500 with 1 Axes>"
      ]
     },
     "metadata": {},
     "output_type": "display_data"
    }
   ],
   "source": [
    "\n",
    "#1.Plot the Within-Cluster-Sum of Squares (WCSS) for different ( K ) values and find the \"elbow point.\"\n",
    "wcss = []\n",
    "K_range = range(1, 10)\n",
    "for k in K_range:\n",
    "    kmeans = KMeans(n_clusters=k, random_state=42)\n",
    "    kmeans.fit(scaled_features)\n",
    "    wcss.append(kmeans.inertia_)  \n",
    "\n",
    "# Plot the WCSS to find the \"elbow\"\n",
    "plt.figure(figsize=(10, 5))\n",
    "plt.plot(K_range, wcss, marker='o')\n",
    "plt.title('Elbow Method')\n",
    "plt.xlabel('Number of Clusters')\n",
    "plt.ylabel('Within-Cluster-Sum of Squares (WCSS)')\n",
    "plt.show()"
   ]
  },
  {
   "cell_type": "markdown",
   "metadata": {
    "id": "SBdbH94YBMJc"
   },
   "source": [
    "### 2.2.2 Perform Clustering\n",
    "- Implement K-Means clustering (or another clustering algorithm) with the optimal number of clusters.\n",
    "- Assign each client to a cluster and add the cluster labels to the dataset."
   ]
  },
  {
   "cell_type": "code",
   "execution_count": 22,
   "metadata": {},
   "outputs": [
    {
     "data": {
      "text/plain": [
       "1903949.7629925886"
      ]
     },
     "execution_count": 22,
     "metadata": {},
     "output_type": "execute_result"
    }
   ],
   "source": [
    "#k-mean clustering method:\n",
    "\n",
    "# defining the kmeans function with initialization as k-means++\n",
    "kmeans = KMeans(n_clusters=3, init='k-means++')\n",
    "\n",
    "# fitting the k means algorithm on scaled data\n",
    "kmeans.fit(scaled_features)\n",
    "\n",
    "# inertia on the fitted data\n",
    "kmeans.inertia_"
   ]
  },
  {
   "cell_type": "code",
   "execution_count": 23,
   "metadata": {
    "id": "BuQhT_CLBMJc"
   },
   "outputs": [
    {
     "data": {
      "image/png": "[encoded data removed]",
      "text/plain": [
       "<Figure size 1000x700 with 1 Axes>"
      ]
     },
     "metadata": {},
     "output_type": "display_data"
    }
   ],
   "source": [
    "#cluster labels\n",
    "labels = kmeans.labels_\n",
    "\n",
    "#centroids of the clusters\n",
    "centroids = kmeans.cluster_centers_\n",
    "\n",
    "# Scatter plot of the data points colored by cluster\n",
    "plt.figure(figsize=(10, 7))\n",
    "sns.scatterplot(\n",
    "    x=scaled_features[:, 0],\n",
    "    y=scaled_features[:, 1],\n",
    "    hue=labels,\n",
    "    palette='viridis',\n",
    "    style=labels,\n",
    "    legend=\"full\"\n",
    ")\n",
    "\n",
    "# Plot centroids\n",
    "plt.scatter(\n",
    "    centroids[:, 0],\n",
    "    centroids[:, 1],\n",
    "    s=300,\n",
    "    c='red',\n",
    "    marker='X',\n",
    "    label='Centroids'\n",
    ")\n",
    "\n",
    "# Add plot details\n",
    "plt.title(\"K-Means Clustering Scatter Plot\")\n",
    "plt.xlabel(\"BALANCE\")\n",
    "plt.ylabel(\"payments\")\n",
    "plt.legend()\n",
    "plt.grid(True)\n",
    "plt.show()"
   ]
  },
  {
   "cell_type": "code",
   "execution_count": null,
   "metadata": {},
   "outputs": [],
   "source": [
    "#The graph show that the data points are grouped into three clusters. \n",
    "#Represented by different colors and shapes: purple as inactive user, \n",
    "#green as frequent user and yellow is high spender.\n",
    "#The red crosses (X) represent the centroids of each cluster.Centroids are the central points of their \n",
    "#respective clusters, calculated as the average position of all points in a cluster."
   ]
  },
  {
   "cell_type": "code",
   "execution_count": null,
   "metadata": {},
   "outputs": [],
   "source": [
    "#It seems the features were normalized or standardized, as they are centered around 0 and span a similar range.\n"
   ]
  },
  {
   "cell_type": "markdown",
   "metadata": {
    "id": "lFg4C3B8BMJc"
   },
   "source": [
    "### 2.2.3 Evaluate the Clusters\n",
    "- Calculate the **Silhouette Score** for the clusters.\n",
    "- Visualize the clusters using a scatter plot.\n"
   ]
  },
  {
   "cell_type": "code",
   "execution_count": 24,
   "metadata": {
    "id": "CQNsyaCNBMJc"
   },
   "outputs": [
    {
     "data": {
      "image/png": "[encoded data removed]",
      "text/plain": [
       "<Figure size 800x500 with 1 Axes>"
      ]
     },
     "metadata": {},
     "output_type": "display_data"
    }
   ],
   "source": [
    "\n",
    "from sklearn.metrics import silhouette_score\n",
    "silhouette_coefficients = []\n",
    "\n",
    "for k in range(2, 10):\n",
    "     kmeans = KMeans(n_clusters=k, random_state=42)\n",
    "     kmeans.fit(scaled_features)\n",
    "     score = silhouette_score(scaled_features, kmeans.labels_)\n",
    "     silhouette_coefficients.append(score)\n",
    "\n",
    "\n",
    "plt.figure(figsize=(8, 5))\n",
    "plt.plot(range(2, 10), silhouette_coefficients, marker='o')\n",
    "plt.xticks(range(2, 10))\n",
    "plt.xlabel(\"Number of Clusters\")\n",
    "plt.ylabel(\"Silhouette Coefficient\")\n",
    "plt.show()"
   ]
  },
  {
   "cell_type": "code",
   "execution_count": null,
   "metadata": {},
   "outputs": [],
   "source": [
    "#When approach using Silhouette analysis, the Silhouette score for cluster are all \n",
    "#above zero which is may have slightly overlapping or poorly-defined clusters.\n",
    "#Look for the peak value of the silhouette score, as it indicates the best cluster \n",
    "#configuration where the clusters are well-separated and compact.\n",
    "#The highest silhouette score is for K=3 This suggests that using 3 clusters\n",
    "#provides the best separation and compactness in the dataset.\n",
    "#When K is increase, the silhouette score decreases significantly.This indicates \n",
    "#that the clusters are becoming less distinct or overlapping as more clusters are added.\n",
    "#A sharp drop is observed after K=5, suggesting that clustering \n",
    "#quality worsens significantly with K more than 5."
   ]
  },
  {
   "cell_type": "markdown",
   "metadata": {
    "id": "Tez18THUBMJe"
   },
   "source": [
    "### 2.2.4 Analyze the Clusters\n",
    "- Analyze the characteristics of each cluster:\n",
    "  - What insights do the clusters provide about the clients?\n",
    "  - Are there any actionable recommendations for the bank?\n",
    "\n",
    "---"
   ]
  },
  {
   "cell_type": "code",
   "execution_count": null,
   "metadata": {
    "id": "1DgRRMnYBMJe",
    "vscode": {
     "languageId": "plaintext"
    }
   },
   "outputs": [],
   "source": [
    "#First cluster inactive user, we can see this group may represent \n",
    "#individuals or entities with low balances and low payment activity.\n",
    "#Frequent user,this group likely consists of client with moderate balances and payment activity.\n",
    "#High spender user is group may correspond to individuals/entities\n",
    "#with high balances and high payment activity.\n"
   ]
  },
  {
   "cell_type": "code",
   "execution_count": null,
   "metadata": {},
   "outputs": [],
   "source": [
    "#Suggest strategies :\n",
    "#From the cluster results, company can target which users that are \n",
    "#active and which user is not active. \n",
    "#inactive user:Introduce financial literacy programs to encourage \n",
    "#saving and investments. Offer low-cost or no-fee accounts to retain these clients."
   ]
  },
  {
   "cell_type": "code",
   "execution_count": null,
   "metadata": {},
   "outputs": [],
   "source": [
    "#Frequent user:Offer customized financial products, such as mid-sized loans, \n",
    "#savings plans, or investment options.Provide loyalty rewards for consistent activity, encouraging further engagement."
   ]
  },
  {
   "cell_type": "code",
   "execution_count": null,
   "metadata": {},
   "outputs": [],
   "source": [
    "#High spender: Offer high-value investment opportunities, personalized financial\n",
    "#advisory, and exclusive credit facilities. Retain these clients with VIP treatment and relationship management programs."
   ]
  }
 ],
 "metadata": {
  "colab": {
   "provenance": []
  },
  "kernelspec": {
   "display_name": "Python 3 (ipykernel)",
   "language": "python",
   "name": "python3"
  },
  "language_info": {
   "codemirror_mode": {
    "name": "ipython",
    "version": 3
   },
   "file_extension": ".py",
   "mimetype": "text/x-python",
   "name": "python",
   "nbconvert_exporter": "python",
   "pygments_lexer": "ipython3",
   "version": "3.12.6"
  }
 },
 "nbformat": 4,
 "nbformat_minor": 4
}
